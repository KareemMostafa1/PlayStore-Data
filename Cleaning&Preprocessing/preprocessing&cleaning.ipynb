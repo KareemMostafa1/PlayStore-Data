{
 "cells": [
  {
   "cell_type": "markdown",
   "metadata": {},
   "source": [
    "**Data Preprocessing and cleaning project**"
   ]
  },
  {
   "cell_type": "markdown",
   "metadata": {},
   "source": [
    "**Imports**"
   ]
  },
  {
   "cell_type": "code",
   "execution_count": 903,
   "metadata": {},
   "outputs": [],
   "source": [
    "import pandas as pd\n",
    "import numpy as np\n",
    "import sklearn\n",
    "import matplotlib.pyplot as plt\n",
    "import seaborn as sns\n",
    "import category_encoders as ce\n",
    "from datasist.structdata import detect_outliers "
   ]
  },
  {
   "cell_type": "markdown",
   "metadata": {},
   "source": [
    "**Reading data into pandas data frame**"
   ]
  },
  {
   "cell_type": "code",
   "execution_count": 904,
   "metadata": {},
   "outputs": [
    {
     "data": {
      "text/html": [
       "<div>\n",
       "<style scoped>\n",
       "    .dataframe tbody tr th:only-of-type {\n",
       "        vertical-align: middle;\n",
       "    }\n",
       "\n",
       "    .dataframe tbody tr th {\n",
       "        vertical-align: top;\n",
       "    }\n",
       "\n",
       "    .dataframe thead th {\n",
       "        text-align: right;\n",
       "    }\n",
       "</style>\n",
       "<table border=\"1\" class=\"dataframe\">\n",
       "  <thead>\n",
       "    <tr style=\"text-align: right;\">\n",
       "      <th></th>\n",
       "      <th>App</th>\n",
       "      <th>Category</th>\n",
       "      <th>Rating</th>\n",
       "      <th>Reviews</th>\n",
       "      <th>Size</th>\n",
       "      <th>Installs</th>\n",
       "      <th>Type</th>\n",
       "      <th>Price</th>\n",
       "      <th>Content Rating</th>\n",
       "      <th>Genres</th>\n",
       "      <th>Last Updated</th>\n",
       "      <th>Current Ver</th>\n",
       "      <th>Android Ver</th>\n",
       "    </tr>\n",
       "  </thead>\n",
       "  <tbody>\n",
       "    <tr>\n",
       "      <th>10551</th>\n",
       "      <td>FK Macva Sabac</td>\n",
       "      <td>SPORTS</td>\n",
       "      <td>NaN</td>\n",
       "      <td>3</td>\n",
       "      <td>26M</td>\n",
       "      <td>10+</td>\n",
       "      <td>Free</td>\n",
       "      <td>0</td>\n",
       "      <td>Everyone</td>\n",
       "      <td>Sports</td>\n",
       "      <td>February 19, 2018</td>\n",
       "      <td>1.0</td>\n",
       "      <td>4.1 and up</td>\n",
       "    </tr>\n",
       "    <tr>\n",
       "      <th>1498</th>\n",
       "      <td>Bathroom Decorating Ideas</td>\n",
       "      <td>HOUSE_AND_HOME</td>\n",
       "      <td>4.1</td>\n",
       "      <td>2427</td>\n",
       "      <td>5.3M</td>\n",
       "      <td>500,000+</td>\n",
       "      <td>Free</td>\n",
       "      <td>0</td>\n",
       "      <td>Everyone</td>\n",
       "      <td>House &amp; Home</td>\n",
       "      <td>March 12, 2015</td>\n",
       "      <td>1.4</td>\n",
       "      <td>3.0 and up</td>\n",
       "    </tr>\n",
       "    <tr>\n",
       "      <th>1548</th>\n",
       "      <td>V380s</td>\n",
       "      <td>LIBRARIES_AND_DEMO</td>\n",
       "      <td>3.2</td>\n",
       "      <td>1919</td>\n",
       "      <td>8.1M</td>\n",
       "      <td>500,000+</td>\n",
       "      <td>Free</td>\n",
       "      <td>0</td>\n",
       "      <td>Everyone</td>\n",
       "      <td>Libraries &amp; Demo</td>\n",
       "      <td>July 11, 2018</td>\n",
       "      <td>5.9.1</td>\n",
       "      <td>4.1 and up</td>\n",
       "    </tr>\n",
       "    <tr>\n",
       "      <th>4749</th>\n",
       "      <td>X Launcher: With OS11 Style Theme &amp; Control Ce...</td>\n",
       "      <td>ART_AND_DESIGN</td>\n",
       "      <td>4.7</td>\n",
       "      <td>5754</td>\n",
       "      <td>4.4M</td>\n",
       "      <td>100,000+</td>\n",
       "      <td>Free</td>\n",
       "      <td>0</td>\n",
       "      <td>Everyone</td>\n",
       "      <td>Art &amp; Design</td>\n",
       "      <td>July 30, 2018</td>\n",
       "      <td>2.1.2</td>\n",
       "      <td>4.1 and up</td>\n",
       "    </tr>\n",
       "    <tr>\n",
       "      <th>8477</th>\n",
       "      <td>DK Live - Sports Play by Play</td>\n",
       "      <td>SPORTS</td>\n",
       "      <td>3.9</td>\n",
       "      <td>255</td>\n",
       "      <td>19M</td>\n",
       "      <td>100,000+</td>\n",
       "      <td>Free</td>\n",
       "      <td>0</td>\n",
       "      <td>Everyone</td>\n",
       "      <td>Sports</td>\n",
       "      <td>May 22, 2018</td>\n",
       "      <td>2.1.4</td>\n",
       "      <td>4.4 and up</td>\n",
       "    </tr>\n",
       "    <tr>\n",
       "      <th>3587</th>\n",
       "      <td>Kids Videos</td>\n",
       "      <td>PARENTING</td>\n",
       "      <td>4.1</td>\n",
       "      <td>559</td>\n",
       "      <td>6.4M</td>\n",
       "      <td>100,000+</td>\n",
       "      <td>Free</td>\n",
       "      <td>0</td>\n",
       "      <td>Everyone</td>\n",
       "      <td>Parenting</td>\n",
       "      <td>May 20, 2018</td>\n",
       "      <td>1.3.1</td>\n",
       "      <td>4.1 and up</td>\n",
       "    </tr>\n",
       "    <tr>\n",
       "      <th>3142</th>\n",
       "      <td>Foursquare Swarm: Check In</td>\n",
       "      <td>TRAVEL_AND_LOCAL</td>\n",
       "      <td>3.9</td>\n",
       "      <td>421800</td>\n",
       "      <td>Varies with device</td>\n",
       "      <td>10,000,000+</td>\n",
       "      <td>Free</td>\n",
       "      <td>0</td>\n",
       "      <td>Teen</td>\n",
       "      <td>Travel &amp; Local</td>\n",
       "      <td>July 27, 2018</td>\n",
       "      <td>Varies with device</td>\n",
       "      <td>Varies with device</td>\n",
       "    </tr>\n",
       "    <tr>\n",
       "      <th>6957</th>\n",
       "      <td>BX Diff - Crypto Coins Checker</td>\n",
       "      <td>FINANCE</td>\n",
       "      <td>4.6</td>\n",
       "      <td>83</td>\n",
       "      <td>4.0M</td>\n",
       "      <td>5,000+</td>\n",
       "      <td>Free</td>\n",
       "      <td>0</td>\n",
       "      <td>Everyone</td>\n",
       "      <td>Finance</td>\n",
       "      <td>July 16, 2018</td>\n",
       "      <td>1.0.21</td>\n",
       "      <td>4.4 and up</td>\n",
       "    </tr>\n",
       "    <tr>\n",
       "      <th>1032</th>\n",
       "      <td>AAS-IN-ASIA 2018</td>\n",
       "      <td>EVENTS</td>\n",
       "      <td>NaN</td>\n",
       "      <td>3</td>\n",
       "      <td>11M</td>\n",
       "      <td>100+</td>\n",
       "      <td>Free</td>\n",
       "      <td>0</td>\n",
       "      <td>Everyone</td>\n",
       "      <td>Events</td>\n",
       "      <td>July 4, 2018</td>\n",
       "      <td>1.1.9</td>\n",
       "      <td>4.1 and up</td>\n",
       "    </tr>\n",
       "    <tr>\n",
       "      <th>6609</th>\n",
       "      <td>Blood Pressure Diary</td>\n",
       "      <td>FAMILY</td>\n",
       "      <td>4.6</td>\n",
       "      <td>47</td>\n",
       "      <td>3.3M</td>\n",
       "      <td>5,000+</td>\n",
       "      <td>Free</td>\n",
       "      <td>0</td>\n",
       "      <td>Everyone</td>\n",
       "      <td>Simulation</td>\n",
       "      <td>August 1, 2018</td>\n",
       "      <td>1.1</td>\n",
       "      <td>4.0.3 and up</td>\n",
       "    </tr>\n",
       "  </tbody>\n",
       "</table>\n",
       "</div>"
      ],
      "text/plain": [
       "                                                     App            Category  \\\n",
       "10551                                     FK Macva Sabac              SPORTS   \n",
       "1498                           Bathroom Decorating Ideas      HOUSE_AND_HOME   \n",
       "1548                                               V380s  LIBRARIES_AND_DEMO   \n",
       "4749   X Launcher: With OS11 Style Theme & Control Ce...      ART_AND_DESIGN   \n",
       "8477                       DK Live - Sports Play by Play              SPORTS   \n",
       "3587                                         Kids Videos           PARENTING   \n",
       "3142                          Foursquare Swarm: Check In    TRAVEL_AND_LOCAL   \n",
       "6957                      BX Diff - Crypto Coins Checker             FINANCE   \n",
       "1032                                    AAS-IN-ASIA 2018              EVENTS   \n",
       "6609                                Blood Pressure Diary              FAMILY   \n",
       "\n",
       "       Rating Reviews                Size     Installs  Type Price  \\\n",
       "10551     NaN       3                 26M          10+  Free     0   \n",
       "1498      4.1    2427                5.3M     500,000+  Free     0   \n",
       "1548      3.2    1919                8.1M     500,000+  Free     0   \n",
       "4749      4.7    5754                4.4M     100,000+  Free     0   \n",
       "8477      3.9     255                 19M     100,000+  Free     0   \n",
       "3587      4.1     559                6.4M     100,000+  Free     0   \n",
       "3142      3.9  421800  Varies with device  10,000,000+  Free     0   \n",
       "6957      4.6      83                4.0M       5,000+  Free     0   \n",
       "1032      NaN       3                 11M         100+  Free     0   \n",
       "6609      4.6      47                3.3M       5,000+  Free     0   \n",
       "\n",
       "      Content Rating            Genres       Last Updated         Current Ver  \\\n",
       "10551       Everyone            Sports  February 19, 2018                 1.0   \n",
       "1498        Everyone      House & Home     March 12, 2015                 1.4   \n",
       "1548        Everyone  Libraries & Demo      July 11, 2018               5.9.1   \n",
       "4749        Everyone      Art & Design      July 30, 2018               2.1.2   \n",
       "8477        Everyone            Sports       May 22, 2018               2.1.4   \n",
       "3587        Everyone         Parenting       May 20, 2018               1.3.1   \n",
       "3142            Teen    Travel & Local      July 27, 2018  Varies with device   \n",
       "6957        Everyone           Finance      July 16, 2018              1.0.21   \n",
       "1032        Everyone            Events       July 4, 2018               1.1.9   \n",
       "6609        Everyone        Simulation     August 1, 2018                 1.1   \n",
       "\n",
       "              Android Ver  \n",
       "10551          4.1 and up  \n",
       "1498           3.0 and up  \n",
       "1548           4.1 and up  \n",
       "4749           4.1 and up  \n",
       "8477           4.4 and up  \n",
       "3587           4.1 and up  \n",
       "3142   Varies with device  \n",
       "6957           4.4 and up  \n",
       "1032           4.1 and up  \n",
       "6609         4.0.3 and up  "
      ]
     },
     "execution_count": 904,
     "metadata": {},
     "output_type": "execute_result"
    }
   ],
   "source": [
    "df=pd.read_csv(\"googleplaystore.csv\")\n",
    "\n",
    "df.sample(10)\n"
   ]
  },
  {
   "cell_type": "code",
   "execution_count": 905,
   "metadata": {},
   "outputs": [
    {
     "name": "stdout",
     "output_type": "stream",
     "text": [
      "(10841, 13)\n"
     ]
    }
   ],
   "source": [
    "print(df.shape)"
   ]
  },
  {
   "cell_type": "code",
   "execution_count": 906,
   "metadata": {},
   "outputs": [
    {
     "name": "stdout",
     "output_type": "stream",
     "text": [
      "<class 'pandas.core.frame.DataFrame'>\n",
      "RangeIndex: 10841 entries, 0 to 10840\n",
      "Data columns (total 13 columns):\n",
      " #   Column          Non-Null Count  Dtype  \n",
      "---  ------          --------------  -----  \n",
      " 0   App             10841 non-null  object \n",
      " 1   Category        10841 non-null  object \n",
      " 2   Rating          9367 non-null   float64\n",
      " 3   Reviews         10841 non-null  object \n",
      " 4   Size            10841 non-null  object \n",
      " 5   Installs        10841 non-null  object \n",
      " 6   Type            10840 non-null  object \n",
      " 7   Price           10841 non-null  object \n",
      " 8   Content Rating  10840 non-null  object \n",
      " 9   Genres          10841 non-null  object \n",
      " 10  Last Updated    10841 non-null  object \n",
      " 11  Current Ver     10833 non-null  object \n",
      " 12  Android Ver     10838 non-null  object \n",
      "dtypes: float64(1), object(12)\n",
      "memory usage: 1.1+ MB\n"
     ]
    }
   ],
   "source": [
    "df.info()"
   ]
  },
  {
   "cell_type": "code",
   "execution_count": 907,
   "metadata": {},
   "outputs": [
    {
     "data": {
      "text/html": [
       "<div>\n",
       "<style scoped>\n",
       "    .dataframe tbody tr th:only-of-type {\n",
       "        vertical-align: middle;\n",
       "    }\n",
       "\n",
       "    .dataframe tbody tr th {\n",
       "        vertical-align: top;\n",
       "    }\n",
       "\n",
       "    .dataframe thead th {\n",
       "        text-align: right;\n",
       "    }\n",
       "</style>\n",
       "<table border=\"1\" class=\"dataframe\">\n",
       "  <thead>\n",
       "    <tr style=\"text-align: right;\">\n",
       "      <th></th>\n",
       "      <th>Rating</th>\n",
       "    </tr>\n",
       "  </thead>\n",
       "  <tbody>\n",
       "    <tr>\n",
       "      <th>count</th>\n",
       "      <td>9367.000000</td>\n",
       "    </tr>\n",
       "    <tr>\n",
       "      <th>mean</th>\n",
       "      <td>4.193338</td>\n",
       "    </tr>\n",
       "    <tr>\n",
       "      <th>std</th>\n",
       "      <td>0.537431</td>\n",
       "    </tr>\n",
       "    <tr>\n",
       "      <th>min</th>\n",
       "      <td>1.000000</td>\n",
       "    </tr>\n",
       "    <tr>\n",
       "      <th>25%</th>\n",
       "      <td>4.000000</td>\n",
       "    </tr>\n",
       "    <tr>\n",
       "      <th>50%</th>\n",
       "      <td>4.300000</td>\n",
       "    </tr>\n",
       "    <tr>\n",
       "      <th>75%</th>\n",
       "      <td>4.500000</td>\n",
       "    </tr>\n",
       "    <tr>\n",
       "      <th>max</th>\n",
       "      <td>19.000000</td>\n",
       "    </tr>\n",
       "  </tbody>\n",
       "</table>\n",
       "</div>"
      ],
      "text/plain": [
       "            Rating\n",
       "count  9367.000000\n",
       "mean      4.193338\n",
       "std       0.537431\n",
       "min       1.000000\n",
       "25%       4.000000\n",
       "50%       4.300000\n",
       "75%       4.500000\n",
       "max      19.000000"
      ]
     },
     "execution_count": 907,
     "metadata": {},
     "output_type": "execute_result"
    }
   ],
   "source": [
    "df.describe()"
   ]
  },
  {
   "cell_type": "markdown",
   "metadata": {},
   "source": [
    "**check for duplicates**"
   ]
  },
  {
   "cell_type": "code",
   "execution_count": 908,
   "metadata": {},
   "outputs": [
    {
     "name": "stdout",
     "output_type": "stream",
     "text": [
      "<class 'pandas.core.frame.DataFrame'>\n",
      "Index: 10358 entries, 0 to 10840\n",
      "Data columns (total 13 columns):\n",
      " #   Column          Non-Null Count  Dtype  \n",
      "---  ------          --------------  -----  \n",
      " 0   App             10358 non-null  object \n",
      " 1   Category        10358 non-null  object \n",
      " 2   Rating          8893 non-null   float64\n",
      " 3   Reviews         10358 non-null  object \n",
      " 4   Size            10358 non-null  object \n",
      " 5   Installs        10358 non-null  object \n",
      " 6   Type            10357 non-null  object \n",
      " 7   Price           10358 non-null  object \n",
      " 8   Content Rating  10357 non-null  object \n",
      " 9   Genres          10358 non-null  object \n",
      " 10  Last Updated    10358 non-null  object \n",
      " 11  Current Ver     10350 non-null  object \n",
      " 12  Android Ver     10355 non-null  object \n",
      "dtypes: float64(1), object(12)\n",
      "memory usage: 1.1+ MB\n"
     ]
    }
   ],
   "source": [
    "df.duplicated().sum()\n",
    "df.drop_duplicates(inplace=True)\n",
    "df.shape\n",
    "df.info()"
   ]
  },
  {
   "cell_type": "code",
   "execution_count": 909,
   "metadata": {},
   "outputs": [
    {
     "data": {
      "text/plain": [
       "Android Ver\n",
       "4.1 and up            2379\n",
       "4.0.3 and up          1451\n",
       "4.0 and up            1337\n",
       "Varies with device    1221\n",
       "4.4 and up             894\n",
       "2.3 and up             643\n",
       "5.0 and up             546\n",
       "4.2 and up             387\n",
       "2.3.3 and up           279\n",
       "2.2 and up             239\n",
       "3.0 and up             237\n",
       "4.3 and up             235\n",
       "2.1 and up             133\n",
       "1.6 and up             116\n",
       "6.0 and up              58\n",
       "7.0 and up              42\n",
       "3.2 and up              36\n",
       "2.0 and up              32\n",
       "5.1 and up              22\n",
       "1.5 and up              20\n",
       "4.4W and up             11\n",
       "3.1 and up              10\n",
       "2.0.1 and up             7\n",
       "8.0 and up               6\n",
       "7.1 and up               3\n",
       "4.0.3 - 7.1.1            2\n",
       "5.0 - 8.0                2\n",
       "1.0 and up               2\n",
       "7.0 - 7.1.1              1\n",
       "4.1 - 7.1.1              1\n",
       "5.0 - 6.0                1\n",
       "2.2 - 7.1.1              1\n",
       "5.0 - 7.1.1              1\n",
       "Name: count, dtype: int64"
      ]
     },
     "execution_count": 909,
     "metadata": {},
     "output_type": "execute_result"
    }
   ],
   "source": [
    "df[\"Android Ver\"].value_counts() "
   ]
  },
  {
   "cell_type": "markdown",
   "metadata": {},
   "source": [
    "android version has only two null entries so we can drop them safely"
   ]
  },
  {
   "cell_type": "code",
   "execution_count": 910,
   "metadata": {},
   "outputs": [
    {
     "data": {
      "text/plain": [
       "(10355, 13)"
      ]
     },
     "execution_count": 910,
     "metadata": {},
     "output_type": "execute_result"
    }
   ],
   "source": [
    "indices=df[df[\"Android Ver\"].isnull()].index\n",
    "df.drop(index=indices,inplace=True)\n",
    "df.shape\n"
   ]
  },
  {
   "cell_type": "code",
   "execution_count": 911,
   "metadata": {},
   "outputs": [
    {
     "data": {
      "text/plain": [
       "Index([   23,   113,   123,   126,   129,   130,   134,   163,   180,   185,\n",
       "       ...\n",
       "       10816, 10818, 10821, 10822, 10823, 10824, 10825, 10831, 10835, 10838],\n",
       "      dtype='int64', length=1465)"
      ]
     },
     "execution_count": 911,
     "metadata": {},
     "output_type": "execute_result"
    }
   ],
   "source": [
    "\n",
    "index_of_null=df[df[\"Rating\"].isna()].index\n",
    "index_of_null\n"
   ]
  },
  {
   "cell_type": "markdown",
   "metadata": {},
   "source": [
    "**Fill half the null values with the mean and the other with the mode**"
   ]
  },
  {
   "cell_type": "code",
   "execution_count": 912,
   "metadata": {},
   "outputs": [
    {
     "data": {
      "text/plain": [
       "0"
      ]
     },
     "execution_count": 912,
     "metadata": {},
     "output_type": "execute_result"
    }
   ],
   "source": [
    "rating_mean=np.mean(df[\"Rating\"])\n",
    "rating_mode=df[\"Rating\"].mode()[0]\n",
    "\n",
    "\n",
    "half_indices=index_of_null[:len(index_of_null)//2]\n",
    "other_half=index_of_null[len(index_of_null)//2:]\n",
    "\n",
    "df.loc[half_indices,\"Rating\"]=rating_mean\n",
    "df.loc[other_half,\"Rating\"]=rating_mode\n",
    "df[\"Rating\"].isnull().sum()\n",
    "df[\"Rating\"].isnull().sum()"
   ]
  },
  {
   "cell_type": "code",
   "execution_count": 913,
   "metadata": {},
   "outputs": [
    {
     "name": "stdout",
     "output_type": "stream",
     "text": [
      "<class 'pandas.core.frame.DataFrame'>\n",
      "Index: 10355 entries, 0 to 10840\n",
      "Data columns (total 13 columns):\n",
      " #   Column          Non-Null Count  Dtype  \n",
      "---  ------          --------------  -----  \n",
      " 0   App             10355 non-null  object \n",
      " 1   Category        10355 non-null  object \n",
      " 2   Rating          10355 non-null  float64\n",
      " 3   Reviews         10355 non-null  object \n",
      " 4   Size            10355 non-null  object \n",
      " 5   Installs        10355 non-null  object \n",
      " 6   Type            10354 non-null  object \n",
      " 7   Price           10355 non-null  object \n",
      " 8   Content Rating  10355 non-null  object \n",
      " 9   Genres          10355 non-null  object \n",
      " 10  Last Updated    10355 non-null  object \n",
      " 11  Current Ver     10347 non-null  object \n",
      " 12  Android Ver     10355 non-null  object \n",
      "dtypes: float64(1), object(12)\n",
      "memory usage: 1.4+ MB\n"
     ]
    }
   ],
   "source": [
    "df.info()"
   ]
  },
  {
   "cell_type": "markdown",
   "metadata": {},
   "source": [
    "type column contain only one null so we can drop it safely"
   ]
  },
  {
   "cell_type": "code",
   "execution_count": 914,
   "metadata": {},
   "outputs": [
    {
     "name": "stdout",
     "output_type": "stream",
     "text": [
      "<class 'pandas.core.frame.DataFrame'>\n",
      "Index: 10354 entries, 0 to 10840\n",
      "Data columns (total 13 columns):\n",
      " #   Column          Non-Null Count  Dtype  \n",
      "---  ------          --------------  -----  \n",
      " 0   App             10354 non-null  object \n",
      " 1   Category        10354 non-null  object \n",
      " 2   Rating          10354 non-null  float64\n",
      " 3   Reviews         10354 non-null  object \n",
      " 4   Size            10354 non-null  object \n",
      " 5   Installs        10354 non-null  object \n",
      " 6   Type            10354 non-null  object \n",
      " 7   Price           10354 non-null  object \n",
      " 8   Content Rating  10354 non-null  object \n",
      " 9   Genres          10354 non-null  object \n",
      " 10  Last Updated    10354 non-null  object \n",
      " 11  Current Ver     10346 non-null  object \n",
      " 12  Android Ver     10354 non-null  object \n",
      "dtypes: float64(1), object(12)\n",
      "memory usage: 1.1+ MB\n"
     ]
    }
   ],
   "source": [
    "index=df[df[\"Type\"].isnull()].index\n",
    "df.drop(index,inplace=True)\n",
    "df.info()"
   ]
  },
  {
   "cell_type": "markdown",
   "metadata": {},
   "source": [
    "Drop null values in current version"
   ]
  },
  {
   "cell_type": "code",
   "execution_count": 915,
   "metadata": {},
   "outputs": [
    {
     "data": {
      "text/html": [
       "<div>\n",
       "<style scoped>\n",
       "    .dataframe tbody tr th:only-of-type {\n",
       "        vertical-align: middle;\n",
       "    }\n",
       "\n",
       "    .dataframe tbody tr th {\n",
       "        vertical-align: top;\n",
       "    }\n",
       "\n",
       "    .dataframe thead th {\n",
       "        text-align: right;\n",
       "    }\n",
       "</style>\n",
       "<table border=\"1\" class=\"dataframe\">\n",
       "  <thead>\n",
       "    <tr style=\"text-align: right;\">\n",
       "      <th></th>\n",
       "      <th>App</th>\n",
       "      <th>Category</th>\n",
       "      <th>Rating</th>\n",
       "      <th>Reviews</th>\n",
       "      <th>Size</th>\n",
       "      <th>Installs</th>\n",
       "      <th>Type</th>\n",
       "      <th>Price</th>\n",
       "      <th>Content Rating</th>\n",
       "      <th>Genres</th>\n",
       "      <th>Last Updated</th>\n",
       "      <th>Current Ver</th>\n",
       "      <th>Android Ver</th>\n",
       "    </tr>\n",
       "  </thead>\n",
       "  <tbody>\n",
       "    <tr>\n",
       "      <th>528</th>\n",
       "      <td>Adult Dirty Emojis</td>\n",
       "      <td>DATING</td>\n",
       "      <td>2.8</td>\n",
       "      <td>80</td>\n",
       "      <td>5.5M</td>\n",
       "      <td>10,000+</td>\n",
       "      <td>Free</td>\n",
       "      <td>0</td>\n",
       "      <td>Teen</td>\n",
       "      <td>Dating</td>\n",
       "      <td>November 6, 2017</td>\n",
       "      <td>1.0</td>\n",
       "      <td>4.0.3 and up</td>\n",
       "    </tr>\n",
       "    <tr>\n",
       "      <th>7369</th>\n",
       "      <td>Green Build - An unofficial Travis CI client</td>\n",
       "      <td>TOOLS</td>\n",
       "      <td>3.9</td>\n",
       "      <td>7</td>\n",
       "      <td>3.2M</td>\n",
       "      <td>100+</td>\n",
       "      <td>Free</td>\n",
       "      <td>0</td>\n",
       "      <td>Everyone</td>\n",
       "      <td>Tools</td>\n",
       "      <td>June 6, 2018</td>\n",
       "      <td>1.2.1</td>\n",
       "      <td>5.0 and up</td>\n",
       "    </tr>\n",
       "    <tr>\n",
       "      <th>3341</th>\n",
       "      <td>Keypad Lock Screen</td>\n",
       "      <td>TOOLS</td>\n",
       "      <td>4.2</td>\n",
       "      <td>428581</td>\n",
       "      <td>4.7M</td>\n",
       "      <td>10,000,000+</td>\n",
       "      <td>Free</td>\n",
       "      <td>0</td>\n",
       "      <td>Everyone</td>\n",
       "      <td>Tools</td>\n",
       "      <td>July 17, 2018</td>\n",
       "      <td>1.33</td>\n",
       "      <td>4.0 and up</td>\n",
       "    </tr>\n",
       "    <tr>\n",
       "      <th>5863</th>\n",
       "      <td>ai.type Free Emoji Keyboard</td>\n",
       "      <td>PERSONALIZATION</td>\n",
       "      <td>4.3</td>\n",
       "      <td>647721</td>\n",
       "      <td>Varies with device</td>\n",
       "      <td>10,000,000+</td>\n",
       "      <td>Free</td>\n",
       "      <td>0</td>\n",
       "      <td>Everyone</td>\n",
       "      <td>Personalization</td>\n",
       "      <td>July 24, 2018</td>\n",
       "      <td>Varies with device</td>\n",
       "      <td>Varies with device</td>\n",
       "    </tr>\n",
       "    <tr>\n",
       "      <th>1088</th>\n",
       "      <td>Bank of Brazil</td>\n",
       "      <td>FINANCE</td>\n",
       "      <td>4.5</td>\n",
       "      <td>1336246</td>\n",
       "      <td>39M</td>\n",
       "      <td>10,000,000+</td>\n",
       "      <td>Free</td>\n",
       "      <td>0</td>\n",
       "      <td>Everyone</td>\n",
       "      <td>Finance</td>\n",
       "      <td>August 3, 2018</td>\n",
       "      <td>6.39.1.4</td>\n",
       "      <td>4.1 and up</td>\n",
       "    </tr>\n",
       "    <tr>\n",
       "      <th>10630</th>\n",
       "      <td>Florida Blue</td>\n",
       "      <td>HEALTH_AND_FITNESS</td>\n",
       "      <td>3.2</td>\n",
       "      <td>499</td>\n",
       "      <td>34M</td>\n",
       "      <td>100,000+</td>\n",
       "      <td>Free</td>\n",
       "      <td>0</td>\n",
       "      <td>Everyone</td>\n",
       "      <td>Health &amp; Fitness</td>\n",
       "      <td>July 10, 2018</td>\n",
       "      <td>4.2.1</td>\n",
       "      <td>7.0 and up</td>\n",
       "    </tr>\n",
       "    <tr>\n",
       "      <th>7702</th>\n",
       "      <td>CP Cloud</td>\n",
       "      <td>BUSINESS</td>\n",
       "      <td>4.4</td>\n",
       "      <td>3</td>\n",
       "      <td>5.4M</td>\n",
       "      <td>100+</td>\n",
       "      <td>Free</td>\n",
       "      <td>0</td>\n",
       "      <td>Everyone</td>\n",
       "      <td>Business</td>\n",
       "      <td>July 24, 2018</td>\n",
       "      <td>2.5</td>\n",
       "      <td>4.4 and up</td>\n",
       "    </tr>\n",
       "    <tr>\n",
       "      <th>10398</th>\n",
       "      <td>HD Themes Volvo FH Trucks</td>\n",
       "      <td>PERSONALIZATION</td>\n",
       "      <td>4.4</td>\n",
       "      <td>40</td>\n",
       "      <td>13M</td>\n",
       "      <td>5,000+</td>\n",
       "      <td>Free</td>\n",
       "      <td>0</td>\n",
       "      <td>Teen</td>\n",
       "      <td>Personalization</td>\n",
       "      <td>June 21, 2016</td>\n",
       "      <td>1.0</td>\n",
       "      <td>2.3.3 and up</td>\n",
       "    </tr>\n",
       "    <tr>\n",
       "      <th>8557</th>\n",
       "      <td>DM airdisk Pro</td>\n",
       "      <td>TOOLS</td>\n",
       "      <td>3.2</td>\n",
       "      <td>11</td>\n",
       "      <td>36M</td>\n",
       "      <td>1,000+</td>\n",
       "      <td>Free</td>\n",
       "      <td>0</td>\n",
       "      <td>Everyone</td>\n",
       "      <td>Tools</td>\n",
       "      <td>September 20, 2017</td>\n",
       "      <td>2.4.0</td>\n",
       "      <td>4.0.3 and up</td>\n",
       "    </tr>\n",
       "    <tr>\n",
       "      <th>9168</th>\n",
       "      <td>Mass Effect: Andromeda APEX HQ</td>\n",
       "      <td>GAME</td>\n",
       "      <td>3.4</td>\n",
       "      <td>4490</td>\n",
       "      <td>92M</td>\n",
       "      <td>100,000+</td>\n",
       "      <td>Free</td>\n",
       "      <td>0</td>\n",
       "      <td>Everyone 10+</td>\n",
       "      <td>Action</td>\n",
       "      <td>September 21, 2017</td>\n",
       "      <td>1.18.1</td>\n",
       "      <td>4.1 and up</td>\n",
       "    </tr>\n",
       "    <tr>\n",
       "      <th>9258</th>\n",
       "      <td>TN Patta /Chitta /EC New</td>\n",
       "      <td>SOCIAL</td>\n",
       "      <td>4.8</td>\n",
       "      <td>5</td>\n",
       "      <td>3.0M</td>\n",
       "      <td>100+</td>\n",
       "      <td>Free</td>\n",
       "      <td>0</td>\n",
       "      <td>Teen</td>\n",
       "      <td>Social</td>\n",
       "      <td>July 20, 2018</td>\n",
       "      <td>1.0</td>\n",
       "      <td>4.0 and up</td>\n",
       "    </tr>\n",
       "  </tbody>\n",
       "</table>\n",
       "</div>"
      ],
      "text/plain": [
       "                                                App            Category  \\\n",
       "528                              Adult Dirty Emojis              DATING   \n",
       "7369   Green Build - An unofficial Travis CI client               TOOLS   \n",
       "3341                             Keypad Lock Screen               TOOLS   \n",
       "5863                    ai.type Free Emoji Keyboard     PERSONALIZATION   \n",
       "1088                                 Bank of Brazil             FINANCE   \n",
       "10630                                  Florida Blue  HEALTH_AND_FITNESS   \n",
       "7702                                       CP Cloud            BUSINESS   \n",
       "10398                     HD Themes Volvo FH Trucks     PERSONALIZATION   \n",
       "8557                                 DM airdisk Pro               TOOLS   \n",
       "9168                 Mass Effect: Andromeda APEX HQ                GAME   \n",
       "9258                       TN Patta /Chitta /EC New              SOCIAL   \n",
       "\n",
       "       Rating  Reviews                Size     Installs  Type Price  \\\n",
       "528       2.8       80                5.5M      10,000+  Free     0   \n",
       "7369      3.9        7                3.2M         100+  Free     0   \n",
       "3341      4.2   428581                4.7M  10,000,000+  Free     0   \n",
       "5863      4.3   647721  Varies with device  10,000,000+  Free     0   \n",
       "1088      4.5  1336246                 39M  10,000,000+  Free     0   \n",
       "10630     3.2      499                 34M     100,000+  Free     0   \n",
       "7702      4.4        3                5.4M         100+  Free     0   \n",
       "10398     4.4       40                 13M       5,000+  Free     0   \n",
       "8557      3.2       11                 36M       1,000+  Free     0   \n",
       "9168      3.4     4490                 92M     100,000+  Free     0   \n",
       "9258      4.8        5                3.0M         100+  Free     0   \n",
       "\n",
       "      Content Rating            Genres        Last Updated  \\\n",
       "528             Teen            Dating    November 6, 2017   \n",
       "7369        Everyone             Tools        June 6, 2018   \n",
       "3341        Everyone             Tools       July 17, 2018   \n",
       "5863        Everyone   Personalization       July 24, 2018   \n",
       "1088        Everyone           Finance      August 3, 2018   \n",
       "10630       Everyone  Health & Fitness       July 10, 2018   \n",
       "7702        Everyone          Business       July 24, 2018   \n",
       "10398           Teen   Personalization       June 21, 2016   \n",
       "8557        Everyone             Tools  September 20, 2017   \n",
       "9168    Everyone 10+            Action  September 21, 2017   \n",
       "9258            Teen            Social       July 20, 2018   \n",
       "\n",
       "              Current Ver         Android Ver  \n",
       "528                   1.0        4.0.3 and up  \n",
       "7369                1.2.1          5.0 and up  \n",
       "3341                 1.33          4.0 and up  \n",
       "5863   Varies with device  Varies with device  \n",
       "1088             6.39.1.4          4.1 and up  \n",
       "10630               4.2.1          7.0 and up  \n",
       "7702                  2.5          4.4 and up  \n",
       "10398                 1.0        2.3.3 and up  \n",
       "8557                2.4.0        4.0.3 and up  \n",
       "9168               1.18.1          4.1 and up  \n",
       "9258                  1.0          4.0 and up  "
      ]
     },
     "execution_count": 915,
     "metadata": {},
     "output_type": "execute_result"
    }
   ],
   "source": [
    "df.dropna(inplace=True)\n",
    "df.sample(11)"
   ]
  },
  {
   "cell_type": "markdown",
   "metadata": {},
   "source": [
    "**Apply binary encoding to the nominal field and drop the original column**"
   ]
  },
  {
   "cell_type": "code",
   "execution_count": 916,
   "metadata": {},
   "outputs": [
    {
     "data": {
      "text/html": [
       "<div>\n",
       "<style scoped>\n",
       "    .dataframe tbody tr th:only-of-type {\n",
       "        vertical-align: middle;\n",
       "    }\n",
       "\n",
       "    .dataframe tbody tr th {\n",
       "        vertical-align: top;\n",
       "    }\n",
       "\n",
       "    .dataframe thead th {\n",
       "        text-align: right;\n",
       "    }\n",
       "</style>\n",
       "<table border=\"1\" class=\"dataframe\">\n",
       "  <thead>\n",
       "    <tr style=\"text-align: right;\">\n",
       "      <th></th>\n",
       "      <th>Rating</th>\n",
       "      <th>Genres_0</th>\n",
       "      <th>Genres_1</th>\n",
       "      <th>Genres_2</th>\n",
       "      <th>Genres_3</th>\n",
       "      <th>Genres_4</th>\n",
       "      <th>Genres_5</th>\n",
       "      <th>Genres_6</th>\n",
       "      <th>Content Rating_0</th>\n",
       "      <th>Content Rating_1</th>\n",
       "      <th>Content Rating_2</th>\n",
       "    </tr>\n",
       "  </thead>\n",
       "  <tbody>\n",
       "    <tr>\n",
       "      <th>count</th>\n",
       "      <td>10346.000000</td>\n",
       "      <td>10346.000000</td>\n",
       "      <td>10346.000000</td>\n",
       "      <td>10346.000000</td>\n",
       "      <td>10346.000000</td>\n",
       "      <td>10346.000000</td>\n",
       "      <td>10346.000000</td>\n",
       "      <td>10346.00000</td>\n",
       "      <td>10346.000000</td>\n",
       "      <td>10346.000000</td>\n",
       "      <td>10346.000000</td>\n",
       "    </tr>\n",
       "    <tr>\n",
       "      <th>mean</th>\n",
       "      <td>4.202890</td>\n",
       "      <td>0.387879</td>\n",
       "      <td>0.293543</td>\n",
       "      <td>0.530930</td>\n",
       "      <td>0.635995</td>\n",
       "      <td>0.598492</td>\n",
       "      <td>0.500290</td>\n",
       "      <td>0.41156</td>\n",
       "      <td>0.043688</td>\n",
       "      <td>0.147303</td>\n",
       "      <td>0.845834</td>\n",
       "    </tr>\n",
       "    <tr>\n",
       "      <th>std</th>\n",
       "      <td>0.487193</td>\n",
       "      <td>0.487290</td>\n",
       "      <td>0.455407</td>\n",
       "      <td>0.499067</td>\n",
       "      <td>0.481173</td>\n",
       "      <td>0.490227</td>\n",
       "      <td>0.500024</td>\n",
       "      <td>0.49214</td>\n",
       "      <td>0.204411</td>\n",
       "      <td>0.354425</td>\n",
       "      <td>0.361125</td>\n",
       "    </tr>\n",
       "    <tr>\n",
       "      <th>min</th>\n",
       "      <td>1.000000</td>\n",
       "      <td>0.000000</td>\n",
       "      <td>0.000000</td>\n",
       "      <td>0.000000</td>\n",
       "      <td>0.000000</td>\n",
       "      <td>0.000000</td>\n",
       "      <td>0.000000</td>\n",
       "      <td>0.00000</td>\n",
       "      <td>0.000000</td>\n",
       "      <td>0.000000</td>\n",
       "      <td>0.000000</td>\n",
       "    </tr>\n",
       "    <tr>\n",
       "      <th>25%</th>\n",
       "      <td>4.100000</td>\n",
       "      <td>0.000000</td>\n",
       "      <td>0.000000</td>\n",
       "      <td>0.000000</td>\n",
       "      <td>0.000000</td>\n",
       "      <td>0.000000</td>\n",
       "      <td>0.000000</td>\n",
       "      <td>0.00000</td>\n",
       "      <td>0.000000</td>\n",
       "      <td>0.000000</td>\n",
       "      <td>1.000000</td>\n",
       "    </tr>\n",
       "    <tr>\n",
       "      <th>50%</th>\n",
       "      <td>4.300000</td>\n",
       "      <td>0.000000</td>\n",
       "      <td>0.000000</td>\n",
       "      <td>1.000000</td>\n",
       "      <td>1.000000</td>\n",
       "      <td>1.000000</td>\n",
       "      <td>1.000000</td>\n",
       "      <td>0.00000</td>\n",
       "      <td>0.000000</td>\n",
       "      <td>0.000000</td>\n",
       "      <td>1.000000</td>\n",
       "    </tr>\n",
       "    <tr>\n",
       "      <th>75%</th>\n",
       "      <td>4.500000</td>\n",
       "      <td>1.000000</td>\n",
       "      <td>1.000000</td>\n",
       "      <td>1.000000</td>\n",
       "      <td>1.000000</td>\n",
       "      <td>1.000000</td>\n",
       "      <td>1.000000</td>\n",
       "      <td>1.00000</td>\n",
       "      <td>0.000000</td>\n",
       "      <td>0.000000</td>\n",
       "      <td>1.000000</td>\n",
       "    </tr>\n",
       "    <tr>\n",
       "      <th>max</th>\n",
       "      <td>5.000000</td>\n",
       "      <td>1.000000</td>\n",
       "      <td>1.000000</td>\n",
       "      <td>1.000000</td>\n",
       "      <td>1.000000</td>\n",
       "      <td>1.000000</td>\n",
       "      <td>1.000000</td>\n",
       "      <td>1.00000</td>\n",
       "      <td>1.000000</td>\n",
       "      <td>1.000000</td>\n",
       "      <td>1.000000</td>\n",
       "    </tr>\n",
       "  </tbody>\n",
       "</table>\n",
       "</div>"
      ],
      "text/plain": [
       "             Rating      Genres_0      Genres_1      Genres_2      Genres_3  \\\n",
       "count  10346.000000  10346.000000  10346.000000  10346.000000  10346.000000   \n",
       "mean       4.202890      0.387879      0.293543      0.530930      0.635995   \n",
       "std        0.487193      0.487290      0.455407      0.499067      0.481173   \n",
       "min        1.000000      0.000000      0.000000      0.000000      0.000000   \n",
       "25%        4.100000      0.000000      0.000000      0.000000      0.000000   \n",
       "50%        4.300000      0.000000      0.000000      1.000000      1.000000   \n",
       "75%        4.500000      1.000000      1.000000      1.000000      1.000000   \n",
       "max        5.000000      1.000000      1.000000      1.000000      1.000000   \n",
       "\n",
       "           Genres_4      Genres_5     Genres_6  Content Rating_0  \\\n",
       "count  10346.000000  10346.000000  10346.00000      10346.000000   \n",
       "mean       0.598492      0.500290      0.41156          0.043688   \n",
       "std        0.490227      0.500024      0.49214          0.204411   \n",
       "min        0.000000      0.000000      0.00000          0.000000   \n",
       "25%        0.000000      0.000000      0.00000          0.000000   \n",
       "50%        1.000000      1.000000      0.00000          0.000000   \n",
       "75%        1.000000      1.000000      1.00000          0.000000   \n",
       "max        1.000000      1.000000      1.00000          1.000000   \n",
       "\n",
       "       Content Rating_1  Content Rating_2  \n",
       "count      10346.000000      10346.000000  \n",
       "mean           0.147303          0.845834  \n",
       "std            0.354425          0.361125  \n",
       "min            0.000000          0.000000  \n",
       "25%            0.000000          1.000000  \n",
       "50%            0.000000          1.000000  \n",
       "75%            0.000000          1.000000  \n",
       "max            1.000000          1.000000  "
      ]
     },
     "execution_count": 916,
     "metadata": {},
     "output_type": "execute_result"
    }
   ],
   "source": [
    "\n",
    "encoder=ce.BinaryEncoder(cols=[\"Category\"])\n",
    "encoded=encoder.fit_transform(df[\"Category\"])\n",
    "encoder2=ce.BinaryEncoder(cols=[\"Genres\"])\n",
    "encoded2=encoder2.fit_transform(df[\"Genres\"])\n",
    "encoder3=ce.BinaryEncoder(cols=[\"Content Rating\"])\n",
    "encoded3=encoder3.fit_transform(df[\"Content Rating\"])\n",
    "df=pd.concat([df,encoded2],axis=1)\n",
    "df=pd.concat([df,encoded3],axis=1)\n",
    "df.describe()"
   ]
  },
  {
   "cell_type": "code",
   "execution_count": 917,
   "metadata": {},
   "outputs": [
    {
     "data": {
      "text/plain": [
       "Content Rating_2\n",
       "1    8751\n",
       "0    1595\n",
       "Name: count, dtype: int64"
      ]
     },
     "execution_count": 917,
     "metadata": {},
     "output_type": "execute_result"
    }
   ],
   "source": [
    "encoded3[\"Content Rating_2\"].value_counts()"
   ]
  },
  {
   "cell_type": "code",
   "execution_count": 918,
   "metadata": {},
   "outputs": [],
   "source": [
    "df=pd.concat([df,encoded],axis=1)\n"
   ]
  },
  {
   "cell_type": "code",
   "execution_count": 919,
   "metadata": {},
   "outputs": [
    {
     "data": {
      "text/plain": [
       "array(['10,000+', '500,000+', '5,000,000+', '50,000,000+', '100,000+',\n",
       "       '50,000+', '1,000,000+', '10,000,000+', '5,000+', '100,000,000+',\n",
       "       '1,000,000,000+', '1,000+', '500,000,000+', '50+', '100+', '500+',\n",
       "       '10+', '1+', '5+', '0+'], dtype=object)"
      ]
     },
     "execution_count": 919,
     "metadata": {},
     "output_type": "execute_result"
    }
   ],
   "source": [
    "df[\"Installs\"].unique()\n"
   ]
  },
  {
   "cell_type": "markdown",
   "metadata": {},
   "source": [
    "**Apply encoding to ordinal fields**"
   ]
  },
  {
   "cell_type": "code",
   "execution_count": 920,
   "metadata": {},
   "outputs": [
    {
     "name": "stdout",
     "output_type": "stream",
     "text": [
      "<class 'pandas.core.frame.DataFrame'>\n",
      "Index: 10346 entries, 0 to 10840\n",
      "Data columns (total 29 columns):\n",
      " #   Column            Non-Null Count  Dtype  \n",
      "---  ------            --------------  -----  \n",
      " 0   App               10346 non-null  object \n",
      " 1   Category          10346 non-null  object \n",
      " 2   Rating            10346 non-null  float64\n",
      " 3   Reviews           10346 non-null  object \n",
      " 4   Size              10346 non-null  object \n",
      " 5   Installs          10346 non-null  int64  \n",
      " 6   Type              10346 non-null  object \n",
      " 7   Price             10346 non-null  object \n",
      " 8   Content Rating    10346 non-null  object \n",
      " 9   Genres            10346 non-null  object \n",
      " 10  Last Updated      10346 non-null  object \n",
      " 11  Current Ver       10346 non-null  object \n",
      " 12  Android Ver       10346 non-null  object \n",
      " 13  Genres_0          10346 non-null  int64  \n",
      " 14  Genres_1          10346 non-null  int64  \n",
      " 15  Genres_2          10346 non-null  int64  \n",
      " 16  Genres_3          10346 non-null  int64  \n",
      " 17  Genres_4          10346 non-null  int64  \n",
      " 18  Genres_5          10346 non-null  int64  \n",
      " 19  Genres_6          10346 non-null  int64  \n",
      " 20  Content Rating_0  10346 non-null  int64  \n",
      " 21  Content Rating_1  10346 non-null  int64  \n",
      " 22  Content Rating_2  10346 non-null  int64  \n",
      " 23  Category_0        10346 non-null  int64  \n",
      " 24  Category_1        10346 non-null  int64  \n",
      " 25  Category_2        10346 non-null  int64  \n",
      " 26  Category_3        10346 non-null  int64  \n",
      " 27  Category_4        10346 non-null  int64  \n",
      " 28  Category_5        10346 non-null  int64  \n",
      "dtypes: float64(1), int64(17), object(11)\n",
      "memory usage: 2.4+ MB\n"
     ]
    }
   ],
   "source": [
    "\n",
    "df[\"Installs\"] = df[\"Installs\"].astype(str)\n",
    "\n",
    "df[\"Installs\"] = df[\"Installs\"].str.strip()  # Remove extra spaces\n",
    "df[\"Installs\"] = df[\"Installs\"].str.replace(\",\", \"\")  # Remove commas\n",
    "df[\"Installs\"] = df[\"Installs\"].str.replace(\"+\", \"\")\n",
    "transform = {'0': 1, '1': 2, '5': 3, '10': 4, '50': 5,'100': 6, '500': 7, '1000': 8, '5000': 9,\n",
    "             '10000': 10, '50000': 11, '100000': 12,'500000': 13, '1000000': 14, '5000000': 15,\n",
    "             '10000000': 16, '50000000': 17, '100000000': 18, '500000000': 19, '1000000000': 20}\n",
    "df[\"Installs\"] = df[\"Installs\"].map(transform)\n",
    "df.info()\n",
    "\n",
    "\n"
   ]
  },
  {
   "cell_type": "markdown",
   "metadata": {},
   "source": [
    "type field is redundant so we can drop it"
   ]
  },
  {
   "cell_type": "code",
   "execution_count": 921,
   "metadata": {},
   "outputs": [],
   "source": [
    "df.drop(\"Type\",axis=1,inplace=True)"
   ]
  },
  {
   "cell_type": "markdown",
   "metadata": {},
   "source": [
    "fix size field"
   ]
  },
  {
   "cell_type": "code",
   "execution_count": 922,
   "metadata": {},
   "outputs": [
    {
     "data": {
      "text/plain": [
       "array(['19M', '14M', '8.7M', '25M', '2.8M', '5.6M', '29M', '33M', '3.1M',\n",
       "       '28M', '12M', '20M', '21M', '37M', '5.5M', '17M', '39M', '31M',\n",
       "       '4.2M', '7.0M', '23M', '6.0M', '6.1M', '4.6M', '9.2M', '5.2M',\n",
       "       '11M', '24M', 'Varies with device', '9.4M', '15M', '10M', '1.2M',\n",
       "       '26M', '8.0M', '7.9M', '56M', '57M', '35M', '54M', '201k', '3.6M',\n",
       "       '5.7M', '8.6M', '2.4M', '27M', '2.7M', '2.5M', '16M', '3.4M',\n",
       "       '8.9M', '3.9M', '2.9M', '38M', '32M', '5.4M', '18M', '1.1M',\n",
       "       '2.2M', '4.5M', '9.8M', '52M', '9.0M', '6.7M', '30M', '2.6M',\n",
       "       '7.1M', '3.7M', '22M', '7.4M', '6.4M', '3.2M', '8.2M', '9.9M',\n",
       "       '4.9M', '9.5M', '5.0M', '5.9M', '13M', '73M', '6.8M', '3.5M',\n",
       "       '4.0M', '2.3M', '7.2M', '2.1M', '42M', '7.3M', '9.1M', '55M',\n",
       "       '23k', '6.5M', '1.5M', '7.5M', '51M', '41M', '48M', '8.5M', '46M',\n",
       "       '8.3M', '4.3M', '4.7M', '3.3M', '40M', '7.8M', '8.8M', '6.6M',\n",
       "       '5.1M', '61M', '66M', '79k', '8.4M', '118k', '44M', '695k', '1.6M',\n",
       "       '6.2M', '18k', '53M', '1.4M', '3.0M', '5.8M', '3.8M', '9.6M',\n",
       "       '45M', '63M', '49M', '77M', '4.4M', '4.8M', '70M', '6.9M', '9.3M',\n",
       "       '10.0M', '8.1M', '36M', '84M', '97M', '2.0M', '1.9M', '1.8M',\n",
       "       '5.3M', '47M', '556k', '526k', '76M', '7.6M', '59M', '9.7M', '78M',\n",
       "       '72M', '43M', '7.7M', '6.3M', '334k', '34M', '93M', '65M', '79M',\n",
       "       '100M', '58M', '50M', '68M', '64M', '67M', '60M', '94M', '232k',\n",
       "       '99M', '624k', '95M', '8.5k', '41k', '292k', '80M', '1.7M', '74M',\n",
       "       '62M', '69M', '75M', '98M', '85M', '82M', '96M', '87M', '71M',\n",
       "       '86M', '91M', '81M', '92M', '83M', '88M', '704k', '862k', '899k',\n",
       "       '378k', '266k', '375k', '1.3M', '975k', '980k', '4.1M', '89M',\n",
       "       '696k', '544k', '525k', '920k', '779k', '853k', '720k', '713k',\n",
       "       '772k', '318k', '58k', '241k', '196k', '857k', '51k', '953k',\n",
       "       '865k', '251k', '930k', '540k', '313k', '746k', '203k', '26k',\n",
       "       '314k', '239k', '371k', '220k', '730k', '756k', '91k', '293k',\n",
       "       '17k', '74k', '14k', '317k', '78k', '924k', '902k', '818k', '81k',\n",
       "       '939k', '169k', '45k', '475k', '965k', '90M', '545k', '61k',\n",
       "       '283k', '655k', '714k', '93k', '872k', '121k', '322k', '1.0M',\n",
       "       '976k', '172k', '238k', '549k', '206k', '954k', '444k', '717k',\n",
       "       '210k', '609k', '308k', '705k', '306k', '904k', '473k', '175k',\n",
       "       '350k', '383k', '454k', '421k', '70k', '812k', '442k', '842k',\n",
       "       '417k', '412k', '459k', '478k', '335k', '782k', '721k', '430k',\n",
       "       '429k', '192k', '200k', '460k', '728k', '496k', '816k', '414k',\n",
       "       '506k', '887k', '613k', '243k', '569k', '778k', '683k', '592k',\n",
       "       '319k', '186k', '840k', '647k', '191k', '373k', '437k', '598k',\n",
       "       '716k', '585k', '982k', '219k', '55k', '948k', '323k', '691k',\n",
       "       '511k', '951k', '963k', '25k', '554k', '351k', '27k', '82k',\n",
       "       '208k', '913k', '514k', '551k', '29k', '103k', '898k', '743k',\n",
       "       '116k', '153k', '209k', '353k', '499k', '173k', '597k', '809k',\n",
       "       '122k', '411k', '400k', '801k', '787k', '50k', '643k', '986k',\n",
       "       '97k', '516k', '837k', '780k', '961k', '269k', '20k', '498k',\n",
       "       '600k', '749k', '642k', '881k', '72k', '656k', '601k', '221k',\n",
       "       '228k', '108k', '940k', '176k', '33k', '663k', '34k', '942k',\n",
       "       '259k', '164k', '458k', '245k', '629k', '28k', '288k', '775k',\n",
       "       '785k', '636k', '916k', '994k', '309k', '485k', '914k', '903k',\n",
       "       '608k', '500k', '54k', '562k', '847k', '957k', '688k', '811k',\n",
       "       '270k', '48k', '329k', '523k', '921k', '874k', '981k', '784k',\n",
       "       '280k', '24k', '518k', '754k', '892k', '154k', '860k', '364k',\n",
       "       '387k', '626k', '161k', '879k', '39k', '970k', '170k', '141k',\n",
       "       '160k', '144k', '143k', '190k', '376k', '193k', '246k', '73k',\n",
       "       '992k', '253k', '420k', '404k', '470k', '226k', '240k', '89k',\n",
       "       '234k', '257k', '861k', '467k', '157k', '44k', '676k', '67k',\n",
       "       '552k', '885k', '1020k', '582k', '619k'], dtype=object)"
      ]
     },
     "execution_count": 922,
     "metadata": {},
     "output_type": "execute_result"
    }
   ],
   "source": [
    "df[\"Size\"].unique()"
   ]
  },
  {
   "cell_type": "code",
   "execution_count": 923,
   "metadata": {},
   "outputs": [
    {
     "data": {
      "text/plain": [
       "0        19.0\n",
       "1        14.0\n",
       "2         8.7\n",
       "3        25.0\n",
       "4         2.8\n",
       "         ... \n",
       "10835     9.6\n",
       "10836    53.0\n",
       "10837     3.6\n",
       "10838     9.5\n",
       "10840    19.0\n",
       "Name: Size, Length: 8821, dtype: float64"
      ]
     },
     "execution_count": 923,
     "metadata": {},
     "output_type": "execute_result"
    }
   ],
   "source": [
    "df = df[df[\"Size\"] != \"Varies with device\"]\n",
    "def convert_size(size):\n",
    "    if size[-1] == 'M' or size[-1] == 'm':\n",
    "        # Remove 'M' and keep the numeric value\n",
    "        return float(size[:-1])\n",
    "    elif size[-1] == 'K' or size[-1] == 'k':\n",
    "        # Remove 'K', convert to float, and multiply by 0.001 to represent in MB\n",
    "        return float(size[:-1]) * 0.001\n",
    "    else:\n",
    "        # Keep the value as is if it's not 'M' or 'K'\n",
    "        return float(size[:-1])\n",
    "\n",
    "# Apply the function to the \"Size\" column\n",
    "df[\"Size\"] = df[\"Size\"].apply(lambda x :convert_size(x))\n",
    "df['Size']\n"
   ]
  },
  {
   "cell_type": "code",
   "execution_count": 924,
   "metadata": {},
   "outputs": [
    {
     "data": {
      "text/html": [
       "<div>\n",
       "<style scoped>\n",
       "    .dataframe tbody tr th:only-of-type {\n",
       "        vertical-align: middle;\n",
       "    }\n",
       "\n",
       "    .dataframe tbody tr th {\n",
       "        vertical-align: top;\n",
       "    }\n",
       "\n",
       "    .dataframe thead th {\n",
       "        text-align: right;\n",
       "    }\n",
       "</style>\n",
       "<table border=\"1\" class=\"dataframe\">\n",
       "  <thead>\n",
       "    <tr style=\"text-align: right;\">\n",
       "      <th></th>\n",
       "      <th>App</th>\n",
       "      <th>Category</th>\n",
       "      <th>Rating</th>\n",
       "      <th>Reviews</th>\n",
       "      <th>Size</th>\n",
       "      <th>Installs</th>\n",
       "      <th>Price</th>\n",
       "      <th>Content Rating</th>\n",
       "      <th>Genres</th>\n",
       "      <th>Last Updated</th>\n",
       "      <th>...</th>\n",
       "      <th>Genres_6</th>\n",
       "      <th>Content Rating_0</th>\n",
       "      <th>Content Rating_1</th>\n",
       "      <th>Content Rating_2</th>\n",
       "      <th>Category_0</th>\n",
       "      <th>Category_1</th>\n",
       "      <th>Category_2</th>\n",
       "      <th>Category_3</th>\n",
       "      <th>Category_4</th>\n",
       "      <th>Category_5</th>\n",
       "    </tr>\n",
       "  </thead>\n",
       "  <tbody>\n",
       "    <tr>\n",
       "      <th>0</th>\n",
       "      <td>Photo Editor &amp; Candy Camera &amp; Grid &amp; ScrapBook</td>\n",
       "      <td>ART_AND_DESIGN</td>\n",
       "      <td>4.1</td>\n",
       "      <td>159</td>\n",
       "      <td>19.0</td>\n",
       "      <td>10</td>\n",
       "      <td>0</td>\n",
       "      <td>Everyone</td>\n",
       "      <td>Art &amp; Design</td>\n",
       "      <td>January 7, 2018</td>\n",
       "      <td>...</td>\n",
       "      <td>1</td>\n",
       "      <td>0</td>\n",
       "      <td>0</td>\n",
       "      <td>1</td>\n",
       "      <td>0</td>\n",
       "      <td>0</td>\n",
       "      <td>0</td>\n",
       "      <td>0</td>\n",
       "      <td>0</td>\n",
       "      <td>1</td>\n",
       "    </tr>\n",
       "    <tr>\n",
       "      <th>1</th>\n",
       "      <td>Coloring book moana</td>\n",
       "      <td>ART_AND_DESIGN</td>\n",
       "      <td>3.9</td>\n",
       "      <td>967</td>\n",
       "      <td>14.0</td>\n",
       "      <td>13</td>\n",
       "      <td>0</td>\n",
       "      <td>Everyone</td>\n",
       "      <td>Art &amp; Design;Pretend Play</td>\n",
       "      <td>January 15, 2018</td>\n",
       "      <td>...</td>\n",
       "      <td>0</td>\n",
       "      <td>0</td>\n",
       "      <td>0</td>\n",
       "      <td>1</td>\n",
       "      <td>0</td>\n",
       "      <td>0</td>\n",
       "      <td>0</td>\n",
       "      <td>0</td>\n",
       "      <td>0</td>\n",
       "      <td>1</td>\n",
       "    </tr>\n",
       "    <tr>\n",
       "      <th>2</th>\n",
       "      <td>U Launcher Lite – FREE Live Cool Themes, Hide ...</td>\n",
       "      <td>ART_AND_DESIGN</td>\n",
       "      <td>4.7</td>\n",
       "      <td>87510</td>\n",
       "      <td>8.7</td>\n",
       "      <td>15</td>\n",
       "      <td>0</td>\n",
       "      <td>Everyone</td>\n",
       "      <td>Art &amp; Design</td>\n",
       "      <td>August 1, 2018</td>\n",
       "      <td>...</td>\n",
       "      <td>1</td>\n",
       "      <td>0</td>\n",
       "      <td>0</td>\n",
       "      <td>1</td>\n",
       "      <td>0</td>\n",
       "      <td>0</td>\n",
       "      <td>0</td>\n",
       "      <td>0</td>\n",
       "      <td>0</td>\n",
       "      <td>1</td>\n",
       "    </tr>\n",
       "    <tr>\n",
       "      <th>3</th>\n",
       "      <td>Sketch - Draw &amp; Paint</td>\n",
       "      <td>ART_AND_DESIGN</td>\n",
       "      <td>4.5</td>\n",
       "      <td>215644</td>\n",
       "      <td>25.0</td>\n",
       "      <td>17</td>\n",
       "      <td>0</td>\n",
       "      <td>Teen</td>\n",
       "      <td>Art &amp; Design</td>\n",
       "      <td>June 8, 2018</td>\n",
       "      <td>...</td>\n",
       "      <td>1</td>\n",
       "      <td>0</td>\n",
       "      <td>1</td>\n",
       "      <td>0</td>\n",
       "      <td>0</td>\n",
       "      <td>0</td>\n",
       "      <td>0</td>\n",
       "      <td>0</td>\n",
       "      <td>0</td>\n",
       "      <td>1</td>\n",
       "    </tr>\n",
       "    <tr>\n",
       "      <th>4</th>\n",
       "      <td>Pixel Draw - Number Art Coloring Book</td>\n",
       "      <td>ART_AND_DESIGN</td>\n",
       "      <td>4.3</td>\n",
       "      <td>967</td>\n",
       "      <td>2.8</td>\n",
       "      <td>12</td>\n",
       "      <td>0</td>\n",
       "      <td>Everyone</td>\n",
       "      <td>Art &amp; Design;Creativity</td>\n",
       "      <td>June 20, 2018</td>\n",
       "      <td>...</td>\n",
       "      <td>1</td>\n",
       "      <td>0</td>\n",
       "      <td>0</td>\n",
       "      <td>1</td>\n",
       "      <td>0</td>\n",
       "      <td>0</td>\n",
       "      <td>0</td>\n",
       "      <td>0</td>\n",
       "      <td>0</td>\n",
       "      <td>1</td>\n",
       "    </tr>\n",
       "    <tr>\n",
       "      <th>5</th>\n",
       "      <td>Paper flowers instructions</td>\n",
       "      <td>ART_AND_DESIGN</td>\n",
       "      <td>4.4</td>\n",
       "      <td>167</td>\n",
       "      <td>5.6</td>\n",
       "      <td>11</td>\n",
       "      <td>0</td>\n",
       "      <td>Everyone</td>\n",
       "      <td>Art &amp; Design</td>\n",
       "      <td>March 26, 2017</td>\n",
       "      <td>...</td>\n",
       "      <td>1</td>\n",
       "      <td>0</td>\n",
       "      <td>0</td>\n",
       "      <td>1</td>\n",
       "      <td>0</td>\n",
       "      <td>0</td>\n",
       "      <td>0</td>\n",
       "      <td>0</td>\n",
       "      <td>0</td>\n",
       "      <td>1</td>\n",
       "    </tr>\n",
       "    <tr>\n",
       "      <th>6</th>\n",
       "      <td>Smoke Effect Photo Maker - Smoke Editor</td>\n",
       "      <td>ART_AND_DESIGN</td>\n",
       "      <td>3.8</td>\n",
       "      <td>178</td>\n",
       "      <td>19.0</td>\n",
       "      <td>11</td>\n",
       "      <td>0</td>\n",
       "      <td>Everyone</td>\n",
       "      <td>Art &amp; Design</td>\n",
       "      <td>April 26, 2018</td>\n",
       "      <td>...</td>\n",
       "      <td>1</td>\n",
       "      <td>0</td>\n",
       "      <td>0</td>\n",
       "      <td>1</td>\n",
       "      <td>0</td>\n",
       "      <td>0</td>\n",
       "      <td>0</td>\n",
       "      <td>0</td>\n",
       "      <td>0</td>\n",
       "      <td>1</td>\n",
       "    </tr>\n",
       "    <tr>\n",
       "      <th>7</th>\n",
       "      <td>Infinite Painter</td>\n",
       "      <td>ART_AND_DESIGN</td>\n",
       "      <td>4.1</td>\n",
       "      <td>36815</td>\n",
       "      <td>29.0</td>\n",
       "      <td>14</td>\n",
       "      <td>0</td>\n",
       "      <td>Everyone</td>\n",
       "      <td>Art &amp; Design</td>\n",
       "      <td>June 14, 2018</td>\n",
       "      <td>...</td>\n",
       "      <td>1</td>\n",
       "      <td>0</td>\n",
       "      <td>0</td>\n",
       "      <td>1</td>\n",
       "      <td>0</td>\n",
       "      <td>0</td>\n",
       "      <td>0</td>\n",
       "      <td>0</td>\n",
       "      <td>0</td>\n",
       "      <td>1</td>\n",
       "    </tr>\n",
       "    <tr>\n",
       "      <th>8</th>\n",
       "      <td>Garden Coloring Book</td>\n",
       "      <td>ART_AND_DESIGN</td>\n",
       "      <td>4.4</td>\n",
       "      <td>13791</td>\n",
       "      <td>33.0</td>\n",
       "      <td>14</td>\n",
       "      <td>0</td>\n",
       "      <td>Everyone</td>\n",
       "      <td>Art &amp; Design</td>\n",
       "      <td>September 20, 2017</td>\n",
       "      <td>...</td>\n",
       "      <td>1</td>\n",
       "      <td>0</td>\n",
       "      <td>0</td>\n",
       "      <td>1</td>\n",
       "      <td>0</td>\n",
       "      <td>0</td>\n",
       "      <td>0</td>\n",
       "      <td>0</td>\n",
       "      <td>0</td>\n",
       "      <td>1</td>\n",
       "    </tr>\n",
       "    <tr>\n",
       "      <th>9</th>\n",
       "      <td>Kids Paint Free - Drawing Fun</td>\n",
       "      <td>ART_AND_DESIGN</td>\n",
       "      <td>4.7</td>\n",
       "      <td>121</td>\n",
       "      <td>3.1</td>\n",
       "      <td>10</td>\n",
       "      <td>0</td>\n",
       "      <td>Everyone</td>\n",
       "      <td>Art &amp; Design;Creativity</td>\n",
       "      <td>July 3, 2018</td>\n",
       "      <td>...</td>\n",
       "      <td>1</td>\n",
       "      <td>0</td>\n",
       "      <td>0</td>\n",
       "      <td>1</td>\n",
       "      <td>0</td>\n",
       "      <td>0</td>\n",
       "      <td>0</td>\n",
       "      <td>0</td>\n",
       "      <td>0</td>\n",
       "      <td>1</td>\n",
       "    </tr>\n",
       "  </tbody>\n",
       "</table>\n",
       "<p>10 rows × 28 columns</p>\n",
       "</div>"
      ],
      "text/plain": [
       "                                                 App        Category  Rating  \\\n",
       "0     Photo Editor & Candy Camera & Grid & ScrapBook  ART_AND_DESIGN     4.1   \n",
       "1                                Coloring book moana  ART_AND_DESIGN     3.9   \n",
       "2  U Launcher Lite – FREE Live Cool Themes, Hide ...  ART_AND_DESIGN     4.7   \n",
       "3                              Sketch - Draw & Paint  ART_AND_DESIGN     4.5   \n",
       "4              Pixel Draw - Number Art Coloring Book  ART_AND_DESIGN     4.3   \n",
       "5                         Paper flowers instructions  ART_AND_DESIGN     4.4   \n",
       "6            Smoke Effect Photo Maker - Smoke Editor  ART_AND_DESIGN     3.8   \n",
       "7                                   Infinite Painter  ART_AND_DESIGN     4.1   \n",
       "8                               Garden Coloring Book  ART_AND_DESIGN     4.4   \n",
       "9                      Kids Paint Free - Drawing Fun  ART_AND_DESIGN     4.7   \n",
       "\n",
       "  Reviews  Size  Installs Price Content Rating                     Genres  \\\n",
       "0     159  19.0        10     0       Everyone               Art & Design   \n",
       "1     967  14.0        13     0       Everyone  Art & Design;Pretend Play   \n",
       "2   87510   8.7        15     0       Everyone               Art & Design   \n",
       "3  215644  25.0        17     0           Teen               Art & Design   \n",
       "4     967   2.8        12     0       Everyone    Art & Design;Creativity   \n",
       "5     167   5.6        11     0       Everyone               Art & Design   \n",
       "6     178  19.0        11     0       Everyone               Art & Design   \n",
       "7   36815  29.0        14     0       Everyone               Art & Design   \n",
       "8   13791  33.0        14     0       Everyone               Art & Design   \n",
       "9     121   3.1        10     0       Everyone    Art & Design;Creativity   \n",
       "\n",
       "         Last Updated  ... Genres_6 Content Rating_0  Content Rating_1  \\\n",
       "0     January 7, 2018  ...        1                0                 0   \n",
       "1    January 15, 2018  ...        0                0                 0   \n",
       "2      August 1, 2018  ...        1                0                 0   \n",
       "3        June 8, 2018  ...        1                0                 1   \n",
       "4       June 20, 2018  ...        1                0                 0   \n",
       "5      March 26, 2017  ...        1                0                 0   \n",
       "6      April 26, 2018  ...        1                0                 0   \n",
       "7       June 14, 2018  ...        1                0                 0   \n",
       "8  September 20, 2017  ...        1                0                 0   \n",
       "9        July 3, 2018  ...        1                0                 0   \n",
       "\n",
       "   Content Rating_2  Category_0  Category_1  Category_2  Category_3  \\\n",
       "0                 1           0           0           0           0   \n",
       "1                 1           0           0           0           0   \n",
       "2                 1           0           0           0           0   \n",
       "3                 0           0           0           0           0   \n",
       "4                 1           0           0           0           0   \n",
       "5                 1           0           0           0           0   \n",
       "6                 1           0           0           0           0   \n",
       "7                 1           0           0           0           0   \n",
       "8                 1           0           0           0           0   \n",
       "9                 1           0           0           0           0   \n",
       "\n",
       "   Category_4  Category_5  \n",
       "0           0           1  \n",
       "1           0           1  \n",
       "2           0           1  \n",
       "3           0           1  \n",
       "4           0           1  \n",
       "5           0           1  \n",
       "6           0           1  \n",
       "7           0           1  \n",
       "8           0           1  \n",
       "9           0           1  \n",
       "\n",
       "[10 rows x 28 columns]"
      ]
     },
     "execution_count": 924,
     "metadata": {},
     "output_type": "execute_result"
    }
   ],
   "source": [
    "df[\"Size\"].value_counts()\n",
    "\n",
    "df.head(10)"
   ]
  },
  {
   "cell_type": "markdown",
   "metadata": {},
   "source": [
    "**make the update date more useful by decreasing number of unique values**"
   ]
  },
  {
   "cell_type": "code",
   "execution_count": 925,
   "metadata": {},
   "outputs": [],
   "source": [
    "def convert(date):\n",
    "    year=date.split(',')[1]\n",
    "    return year \n",
    "    \n",
    "df[\"update year\"]=df[\"Last Updated\"].apply(lambda x: convert(x))\n",
    "\n",
    "    "
   ]
  },
  {
   "cell_type": "code",
   "execution_count": 926,
   "metadata": {},
   "outputs": [],
   "source": [
    "df.drop(\"Last Updated\",axis=1,inplace=True)"
   ]
  },
  {
   "cell_type": "code",
   "execution_count": 927,
   "metadata": {},
   "outputs": [
    {
     "data": {
      "text/html": [
       "<div>\n",
       "<style scoped>\n",
       "    .dataframe tbody tr th:only-of-type {\n",
       "        vertical-align: middle;\n",
       "    }\n",
       "\n",
       "    .dataframe tbody tr th {\n",
       "        vertical-align: top;\n",
       "    }\n",
       "\n",
       "    .dataframe thead th {\n",
       "        text-align: right;\n",
       "    }\n",
       "</style>\n",
       "<table border=\"1\" class=\"dataframe\">\n",
       "  <thead>\n",
       "    <tr style=\"text-align: right;\">\n",
       "      <th></th>\n",
       "      <th>App</th>\n",
       "      <th>Category</th>\n",
       "      <th>Rating</th>\n",
       "      <th>Reviews</th>\n",
       "      <th>Size</th>\n",
       "      <th>Installs</th>\n",
       "      <th>Price</th>\n",
       "      <th>Content Rating</th>\n",
       "      <th>Genres</th>\n",
       "      <th>Current Ver</th>\n",
       "      <th>...</th>\n",
       "      <th>Content Rating_0</th>\n",
       "      <th>Content Rating_1</th>\n",
       "      <th>Content Rating_2</th>\n",
       "      <th>Category_0</th>\n",
       "      <th>Category_1</th>\n",
       "      <th>Category_2</th>\n",
       "      <th>Category_3</th>\n",
       "      <th>Category_4</th>\n",
       "      <th>Category_5</th>\n",
       "      <th>update year</th>\n",
       "    </tr>\n",
       "  </thead>\n",
       "  <tbody>\n",
       "    <tr>\n",
       "      <th>0</th>\n",
       "      <td>Photo Editor &amp; Candy Camera &amp; Grid &amp; ScrapBook</td>\n",
       "      <td>ART_AND_DESIGN</td>\n",
       "      <td>4.1</td>\n",
       "      <td>159</td>\n",
       "      <td>19.0</td>\n",
       "      <td>10</td>\n",
       "      <td>0</td>\n",
       "      <td>Everyone</td>\n",
       "      <td>Art &amp; Design</td>\n",
       "      <td>1.0.0</td>\n",
       "      <td>...</td>\n",
       "      <td>0</td>\n",
       "      <td>0</td>\n",
       "      <td>1</td>\n",
       "      <td>0</td>\n",
       "      <td>0</td>\n",
       "      <td>0</td>\n",
       "      <td>0</td>\n",
       "      <td>0</td>\n",
       "      <td>1</td>\n",
       "      <td>2018</td>\n",
       "    </tr>\n",
       "    <tr>\n",
       "      <th>1</th>\n",
       "      <td>Coloring book moana</td>\n",
       "      <td>ART_AND_DESIGN</td>\n",
       "      <td>3.9</td>\n",
       "      <td>967</td>\n",
       "      <td>14.0</td>\n",
       "      <td>13</td>\n",
       "      <td>0</td>\n",
       "      <td>Everyone</td>\n",
       "      <td>Art &amp; Design;Pretend Play</td>\n",
       "      <td>2.0.0</td>\n",
       "      <td>...</td>\n",
       "      <td>0</td>\n",
       "      <td>0</td>\n",
       "      <td>1</td>\n",
       "      <td>0</td>\n",
       "      <td>0</td>\n",
       "      <td>0</td>\n",
       "      <td>0</td>\n",
       "      <td>0</td>\n",
       "      <td>1</td>\n",
       "      <td>2018</td>\n",
       "    </tr>\n",
       "    <tr>\n",
       "      <th>2</th>\n",
       "      <td>U Launcher Lite – FREE Live Cool Themes, Hide ...</td>\n",
       "      <td>ART_AND_DESIGN</td>\n",
       "      <td>4.7</td>\n",
       "      <td>87510</td>\n",
       "      <td>8.7</td>\n",
       "      <td>15</td>\n",
       "      <td>0</td>\n",
       "      <td>Everyone</td>\n",
       "      <td>Art &amp; Design</td>\n",
       "      <td>1.2.4</td>\n",
       "      <td>...</td>\n",
       "      <td>0</td>\n",
       "      <td>0</td>\n",
       "      <td>1</td>\n",
       "      <td>0</td>\n",
       "      <td>0</td>\n",
       "      <td>0</td>\n",
       "      <td>0</td>\n",
       "      <td>0</td>\n",
       "      <td>1</td>\n",
       "      <td>2018</td>\n",
       "    </tr>\n",
       "    <tr>\n",
       "      <th>3</th>\n",
       "      <td>Sketch - Draw &amp; Paint</td>\n",
       "      <td>ART_AND_DESIGN</td>\n",
       "      <td>4.5</td>\n",
       "      <td>215644</td>\n",
       "      <td>25.0</td>\n",
       "      <td>17</td>\n",
       "      <td>0</td>\n",
       "      <td>Teen</td>\n",
       "      <td>Art &amp; Design</td>\n",
       "      <td>Varies with device</td>\n",
       "      <td>...</td>\n",
       "      <td>0</td>\n",
       "      <td>1</td>\n",
       "      <td>0</td>\n",
       "      <td>0</td>\n",
       "      <td>0</td>\n",
       "      <td>0</td>\n",
       "      <td>0</td>\n",
       "      <td>0</td>\n",
       "      <td>1</td>\n",
       "      <td>2018</td>\n",
       "    </tr>\n",
       "    <tr>\n",
       "      <th>4</th>\n",
       "      <td>Pixel Draw - Number Art Coloring Book</td>\n",
       "      <td>ART_AND_DESIGN</td>\n",
       "      <td>4.3</td>\n",
       "      <td>967</td>\n",
       "      <td>2.8</td>\n",
       "      <td>12</td>\n",
       "      <td>0</td>\n",
       "      <td>Everyone</td>\n",
       "      <td>Art &amp; Design;Creativity</td>\n",
       "      <td>1.1</td>\n",
       "      <td>...</td>\n",
       "      <td>0</td>\n",
       "      <td>0</td>\n",
       "      <td>1</td>\n",
       "      <td>0</td>\n",
       "      <td>0</td>\n",
       "      <td>0</td>\n",
       "      <td>0</td>\n",
       "      <td>0</td>\n",
       "      <td>1</td>\n",
       "      <td>2018</td>\n",
       "    </tr>\n",
       "    <tr>\n",
       "      <th>...</th>\n",
       "      <td>...</td>\n",
       "      <td>...</td>\n",
       "      <td>...</td>\n",
       "      <td>...</td>\n",
       "      <td>...</td>\n",
       "      <td>...</td>\n",
       "      <td>...</td>\n",
       "      <td>...</td>\n",
       "      <td>...</td>\n",
       "      <td>...</td>\n",
       "      <td>...</td>\n",
       "      <td>...</td>\n",
       "      <td>...</td>\n",
       "      <td>...</td>\n",
       "      <td>...</td>\n",
       "      <td>...</td>\n",
       "      <td>...</td>\n",
       "      <td>...</td>\n",
       "      <td>...</td>\n",
       "      <td>...</td>\n",
       "      <td>...</td>\n",
       "    </tr>\n",
       "    <tr>\n",
       "      <th>10835</th>\n",
       "      <td>FR Forms</td>\n",
       "      <td>BUSINESS</td>\n",
       "      <td>4.4</td>\n",
       "      <td>0</td>\n",
       "      <td>9.6</td>\n",
       "      <td>4</td>\n",
       "      <td>0</td>\n",
       "      <td>Everyone</td>\n",
       "      <td>Business</td>\n",
       "      <td>1.1.5</td>\n",
       "      <td>...</td>\n",
       "      <td>0</td>\n",
       "      <td>0</td>\n",
       "      <td>1</td>\n",
       "      <td>0</td>\n",
       "      <td>0</td>\n",
       "      <td>0</td>\n",
       "      <td>1</td>\n",
       "      <td>0</td>\n",
       "      <td>1</td>\n",
       "      <td>2016</td>\n",
       "    </tr>\n",
       "    <tr>\n",
       "      <th>10836</th>\n",
       "      <td>Sya9a Maroc - FR</td>\n",
       "      <td>FAMILY</td>\n",
       "      <td>4.5</td>\n",
       "      <td>38</td>\n",
       "      <td>53.0</td>\n",
       "      <td>9</td>\n",
       "      <td>0</td>\n",
       "      <td>Everyone</td>\n",
       "      <td>Education</td>\n",
       "      <td>1.48</td>\n",
       "      <td>...</td>\n",
       "      <td>0</td>\n",
       "      <td>0</td>\n",
       "      <td>1</td>\n",
       "      <td>0</td>\n",
       "      <td>1</td>\n",
       "      <td>0</td>\n",
       "      <td>0</td>\n",
       "      <td>1</td>\n",
       "      <td>1</td>\n",
       "      <td>2017</td>\n",
       "    </tr>\n",
       "    <tr>\n",
       "      <th>10837</th>\n",
       "      <td>Fr. Mike Schmitz Audio Teachings</td>\n",
       "      <td>FAMILY</td>\n",
       "      <td>5.0</td>\n",
       "      <td>4</td>\n",
       "      <td>3.6</td>\n",
       "      <td>6</td>\n",
       "      <td>0</td>\n",
       "      <td>Everyone</td>\n",
       "      <td>Education</td>\n",
       "      <td>1.0</td>\n",
       "      <td>...</td>\n",
       "      <td>0</td>\n",
       "      <td>0</td>\n",
       "      <td>1</td>\n",
       "      <td>0</td>\n",
       "      <td>1</td>\n",
       "      <td>0</td>\n",
       "      <td>0</td>\n",
       "      <td>1</td>\n",
       "      <td>1</td>\n",
       "      <td>2018</td>\n",
       "    </tr>\n",
       "    <tr>\n",
       "      <th>10838</th>\n",
       "      <td>Parkinson Exercices FR</td>\n",
       "      <td>MEDICAL</td>\n",
       "      <td>4.4</td>\n",
       "      <td>3</td>\n",
       "      <td>9.5</td>\n",
       "      <td>8</td>\n",
       "      <td>0</td>\n",
       "      <td>Everyone</td>\n",
       "      <td>Medical</td>\n",
       "      <td>1.0</td>\n",
       "      <td>...</td>\n",
       "      <td>0</td>\n",
       "      <td>0</td>\n",
       "      <td>1</td>\n",
       "      <td>0</td>\n",
       "      <td>1</td>\n",
       "      <td>0</td>\n",
       "      <td>1</td>\n",
       "      <td>0</td>\n",
       "      <td>0</td>\n",
       "      <td>2017</td>\n",
       "    </tr>\n",
       "    <tr>\n",
       "      <th>10840</th>\n",
       "      <td>iHoroscope - 2018 Daily Horoscope &amp; Astrology</td>\n",
       "      <td>LIFESTYLE</td>\n",
       "      <td>4.5</td>\n",
       "      <td>398307</td>\n",
       "      <td>19.0</td>\n",
       "      <td>16</td>\n",
       "      <td>0</td>\n",
       "      <td>Everyone</td>\n",
       "      <td>Lifestyle</td>\n",
       "      <td>Varies with device</td>\n",
       "      <td>...</td>\n",
       "      <td>0</td>\n",
       "      <td>0</td>\n",
       "      <td>1</td>\n",
       "      <td>0</td>\n",
       "      <td>1</td>\n",
       "      <td>0</td>\n",
       "      <td>0</td>\n",
       "      <td>0</td>\n",
       "      <td>1</td>\n",
       "      <td>2018</td>\n",
       "    </tr>\n",
       "  </tbody>\n",
       "</table>\n",
       "<p>8821 rows × 28 columns</p>\n",
       "</div>"
      ],
      "text/plain": [
       "                                                     App        Category  \\\n",
       "0         Photo Editor & Candy Camera & Grid & ScrapBook  ART_AND_DESIGN   \n",
       "1                                    Coloring book moana  ART_AND_DESIGN   \n",
       "2      U Launcher Lite – FREE Live Cool Themes, Hide ...  ART_AND_DESIGN   \n",
       "3                                  Sketch - Draw & Paint  ART_AND_DESIGN   \n",
       "4                  Pixel Draw - Number Art Coloring Book  ART_AND_DESIGN   \n",
       "...                                                  ...             ...   \n",
       "10835                                           FR Forms        BUSINESS   \n",
       "10836                                   Sya9a Maroc - FR          FAMILY   \n",
       "10837                   Fr. Mike Schmitz Audio Teachings          FAMILY   \n",
       "10838                             Parkinson Exercices FR         MEDICAL   \n",
       "10840      iHoroscope - 2018 Daily Horoscope & Astrology       LIFESTYLE   \n",
       "\n",
       "       Rating Reviews  Size  Installs Price Content Rating  \\\n",
       "0         4.1     159  19.0        10     0       Everyone   \n",
       "1         3.9     967  14.0        13     0       Everyone   \n",
       "2         4.7   87510   8.7        15     0       Everyone   \n",
       "3         4.5  215644  25.0        17     0           Teen   \n",
       "4         4.3     967   2.8        12     0       Everyone   \n",
       "...       ...     ...   ...       ...   ...            ...   \n",
       "10835     4.4       0   9.6         4     0       Everyone   \n",
       "10836     4.5      38  53.0         9     0       Everyone   \n",
       "10837     5.0       4   3.6         6     0       Everyone   \n",
       "10838     4.4       3   9.5         8     0       Everyone   \n",
       "10840     4.5  398307  19.0        16     0       Everyone   \n",
       "\n",
       "                          Genres         Current Ver  ... Content Rating_0  \\\n",
       "0                   Art & Design               1.0.0  ...                0   \n",
       "1      Art & Design;Pretend Play               2.0.0  ...                0   \n",
       "2                   Art & Design               1.2.4  ...                0   \n",
       "3                   Art & Design  Varies with device  ...                0   \n",
       "4        Art & Design;Creativity                 1.1  ...                0   \n",
       "...                          ...                 ...  ...              ...   \n",
       "10835                   Business               1.1.5  ...                0   \n",
       "10836                  Education                1.48  ...                0   \n",
       "10837                  Education                 1.0  ...                0   \n",
       "10838                    Medical                 1.0  ...                0   \n",
       "10840                  Lifestyle  Varies with device  ...                0   \n",
       "\n",
       "       Content Rating_1  Content Rating_2  Category_0  Category_1  Category_2  \\\n",
       "0                     0                 1           0           0           0   \n",
       "1                     0                 1           0           0           0   \n",
       "2                     0                 1           0           0           0   \n",
       "3                     1                 0           0           0           0   \n",
       "4                     0                 1           0           0           0   \n",
       "...                 ...               ...         ...         ...         ...   \n",
       "10835                 0                 1           0           0           0   \n",
       "10836                 0                 1           0           1           0   \n",
       "10837                 0                 1           0           1           0   \n",
       "10838                 0                 1           0           1           0   \n",
       "10840                 0                 1           0           1           0   \n",
       "\n",
       "       Category_3  Category_4  Category_5  update year  \n",
       "0               0           0           1         2018  \n",
       "1               0           0           1         2018  \n",
       "2               0           0           1         2018  \n",
       "3               0           0           1         2018  \n",
       "4               0           0           1         2018  \n",
       "...           ...         ...         ...          ...  \n",
       "10835           1           0           1         2016  \n",
       "10836           0           1           1         2017  \n",
       "10837           0           1           1         2018  \n",
       "10838           1           0           0         2017  \n",
       "10840           0           0           1         2018  \n",
       "\n",
       "[8821 rows x 28 columns]"
      ]
     },
     "execution_count": 927,
     "metadata": {},
     "output_type": "execute_result"
    }
   ],
   "source": [
    "df"
   ]
  },
  {
   "cell_type": "markdown",
   "metadata": {},
   "source": [
    "**Assuming the current version do not affect the classification**"
   ]
  },
  {
   "cell_type": "code",
   "execution_count": 928,
   "metadata": {},
   "outputs": [],
   "source": [
    "df.drop(\"Current Ver\",axis=1,inplace=True)"
   ]
  },
  {
   "cell_type": "markdown",
   "metadata": {},
   "source": [
    "**Fixing android verion**"
   ]
  },
  {
   "cell_type": "code",
   "execution_count": 929,
   "metadata": {},
   "outputs": [
    {
     "data": {
      "text/plain": [
       "array(['4.0.3 and up', '4.2 and up', '4.4 and up', '2.3 and up',\n",
       "       '3.0 and up', '4.1 and up', '4.0 and up', '2.2 and up',\n",
       "       '5.0 and up', '6.0 and up', '1.6 and up', '2.1 and up',\n",
       "       '5.1 and up', '1.5 and up', '7.0 and up', '4.3 and up',\n",
       "       '4.0.3 - 7.1.1', '2.0 and up', '2.3.3 and up', '3.2 and up',\n",
       "       '4.4W and up', '7.1 and up', '7.0 - 7.1.1', '8.0 and up',\n",
       "       '5.0 - 8.0', '3.1 and up', '2.0.1 and up', '4.1 - 7.1.1',\n",
       "       '5.0 - 6.0', '1.0 and up', '2.2 - 7.1.1', '5.0 - 7.1.1'],\n",
       "      dtype=object)"
      ]
     },
     "execution_count": 929,
     "metadata": {},
     "output_type": "execute_result"
    }
   ],
   "source": [
    "df[\"Android Ver\"].value_counts()\n",
    "df= df[df[\"Android Ver\"]!=\"Varies with device\"]\n",
    "df[\"Android Ver\"].unique()"
   ]
  },
  {
   "cell_type": "code",
   "execution_count": 930,
   "metadata": {},
   "outputs": [
    {
     "name": "stderr",
     "output_type": "stream",
     "text": [
      "C:\\Users\\kareem\\AppData\\Local\\Temp\\ipykernel_15568\\1110511502.py:13: SettingWithCopyWarning: \n",
      "A value is trying to be set on a copy of a slice from a DataFrame.\n",
      "Try using .loc[row_indexer,col_indexer] = value instead\n",
      "\n",
      "See the caveats in the documentation: https://pandas.pydata.org/pandas-docs/stable/user_guide/indexing.html#returning-a-view-versus-a-copy\n",
      "  df[\"Android Ver\"]=df[\"Android Ver\"].map(trans)\n"
     ]
    }
   ],
   "source": [
    "trans = {\n",
    "    '1.0 and up': 1, '1.5 and up': 2, '1.6 and up': 3, \n",
    "    '2.0 and up': 4, '2.0.1 and up': 5, '2.1 and up': 6, \n",
    "    '2.2 and up': 7, '2.2 - 7.1.1': 8, '2.3 and up': 9, '2.3.3 and up': 10, \n",
    "    '3.0 and up': 11, '3.1 and up': 12, '3.2 and up': 13, '4.0 and up': 14, \n",
    "    '4.0.3 and up': 15, '4.0.3 - 7.1.1': 16, '4.1 and up': 17, \n",
    "    '4.1 - 7.1.1': 18, '4.2 and up': 19, '4.3 and up': 20, '4.4 and up': 21, \n",
    "    '4.4W and up': 22, '5.0 and up': 23, \n",
    "    '5.0 - 6.0': 24, '5.0 - 7.1.1': 25, '5.0 - 8.0': 26, '5.1 and up': 27, \n",
    "    '6.0 and up': 28, '7.0 and up': 29, '7.0 - 7.1.1': 30, '7.1 and up': 31, \n",
    "    '8.0 and up': 32\n",
    "}\n",
    "df[\"Android Ver\"]=df[\"Android Ver\"].map(trans)\n"
   ]
  },
  {
   "cell_type": "markdown",
   "metadata": {},
   "source": [
    "**Fix the Data Types**"
   ]
  },
  {
   "cell_type": "code",
   "execution_count": 931,
   "metadata": {},
   "outputs": [
    {
     "data": {
      "text/html": [
       "<div>\n",
       "<style scoped>\n",
       "    .dataframe tbody tr th:only-of-type {\n",
       "        vertical-align: middle;\n",
       "    }\n",
       "\n",
       "    .dataframe tbody tr th {\n",
       "        vertical-align: top;\n",
       "    }\n",
       "\n",
       "    .dataframe thead th {\n",
       "        text-align: right;\n",
       "    }\n",
       "</style>\n",
       "<table border=\"1\" class=\"dataframe\">\n",
       "  <thead>\n",
       "    <tr style=\"text-align: right;\">\n",
       "      <th></th>\n",
       "      <th>App</th>\n",
       "      <th>Category</th>\n",
       "      <th>Rating</th>\n",
       "      <th>Reviews</th>\n",
       "      <th>Size</th>\n",
       "      <th>Installs</th>\n",
       "      <th>Price</th>\n",
       "      <th>Content Rating</th>\n",
       "      <th>Genres</th>\n",
       "      <th>Android Ver</th>\n",
       "      <th>...</th>\n",
       "      <th>Content Rating_0</th>\n",
       "      <th>Content Rating_1</th>\n",
       "      <th>Content Rating_2</th>\n",
       "      <th>Category_0</th>\n",
       "      <th>Category_1</th>\n",
       "      <th>Category_2</th>\n",
       "      <th>Category_3</th>\n",
       "      <th>Category_4</th>\n",
       "      <th>Category_5</th>\n",
       "      <th>update year</th>\n",
       "    </tr>\n",
       "  </thead>\n",
       "  <tbody>\n",
       "    <tr>\n",
       "      <th>0</th>\n",
       "      <td>Photo Editor &amp; Candy Camera &amp; Grid &amp; ScrapBook</td>\n",
       "      <td>ART_AND_DESIGN</td>\n",
       "      <td>4.1</td>\n",
       "      <td>159</td>\n",
       "      <td>19.0</td>\n",
       "      <td>10</td>\n",
       "      <td>0</td>\n",
       "      <td>Everyone</td>\n",
       "      <td>Art &amp; Design</td>\n",
       "      <td>15</td>\n",
       "      <td>...</td>\n",
       "      <td>0</td>\n",
       "      <td>0</td>\n",
       "      <td>1</td>\n",
       "      <td>0</td>\n",
       "      <td>0</td>\n",
       "      <td>0</td>\n",
       "      <td>0</td>\n",
       "      <td>0</td>\n",
       "      <td>1</td>\n",
       "      <td>2018</td>\n",
       "    </tr>\n",
       "    <tr>\n",
       "      <th>1</th>\n",
       "      <td>Coloring book moana</td>\n",
       "      <td>ART_AND_DESIGN</td>\n",
       "      <td>3.9</td>\n",
       "      <td>967</td>\n",
       "      <td>14.0</td>\n",
       "      <td>13</td>\n",
       "      <td>0</td>\n",
       "      <td>Everyone</td>\n",
       "      <td>Art &amp; Design;Pretend Play</td>\n",
       "      <td>15</td>\n",
       "      <td>...</td>\n",
       "      <td>0</td>\n",
       "      <td>0</td>\n",
       "      <td>1</td>\n",
       "      <td>0</td>\n",
       "      <td>0</td>\n",
       "      <td>0</td>\n",
       "      <td>0</td>\n",
       "      <td>0</td>\n",
       "      <td>1</td>\n",
       "      <td>2018</td>\n",
       "    </tr>\n",
       "    <tr>\n",
       "      <th>2</th>\n",
       "      <td>U Launcher Lite – FREE Live Cool Themes, Hide ...</td>\n",
       "      <td>ART_AND_DESIGN</td>\n",
       "      <td>4.7</td>\n",
       "      <td>87510</td>\n",
       "      <td>8.7</td>\n",
       "      <td>15</td>\n",
       "      <td>0</td>\n",
       "      <td>Everyone</td>\n",
       "      <td>Art &amp; Design</td>\n",
       "      <td>15</td>\n",
       "      <td>...</td>\n",
       "      <td>0</td>\n",
       "      <td>0</td>\n",
       "      <td>1</td>\n",
       "      <td>0</td>\n",
       "      <td>0</td>\n",
       "      <td>0</td>\n",
       "      <td>0</td>\n",
       "      <td>0</td>\n",
       "      <td>1</td>\n",
       "      <td>2018</td>\n",
       "    </tr>\n",
       "    <tr>\n",
       "      <th>3</th>\n",
       "      <td>Sketch - Draw &amp; Paint</td>\n",
       "      <td>ART_AND_DESIGN</td>\n",
       "      <td>4.5</td>\n",
       "      <td>215644</td>\n",
       "      <td>25.0</td>\n",
       "      <td>17</td>\n",
       "      <td>0</td>\n",
       "      <td>Teen</td>\n",
       "      <td>Art &amp; Design</td>\n",
       "      <td>19</td>\n",
       "      <td>...</td>\n",
       "      <td>0</td>\n",
       "      <td>1</td>\n",
       "      <td>0</td>\n",
       "      <td>0</td>\n",
       "      <td>0</td>\n",
       "      <td>0</td>\n",
       "      <td>0</td>\n",
       "      <td>0</td>\n",
       "      <td>1</td>\n",
       "      <td>2018</td>\n",
       "    </tr>\n",
       "    <tr>\n",
       "      <th>4</th>\n",
       "      <td>Pixel Draw - Number Art Coloring Book</td>\n",
       "      <td>ART_AND_DESIGN</td>\n",
       "      <td>4.3</td>\n",
       "      <td>967</td>\n",
       "      <td>2.8</td>\n",
       "      <td>12</td>\n",
       "      <td>0</td>\n",
       "      <td>Everyone</td>\n",
       "      <td>Art &amp; Design;Creativity</td>\n",
       "      <td>21</td>\n",
       "      <td>...</td>\n",
       "      <td>0</td>\n",
       "      <td>0</td>\n",
       "      <td>1</td>\n",
       "      <td>0</td>\n",
       "      <td>0</td>\n",
       "      <td>0</td>\n",
       "      <td>0</td>\n",
       "      <td>0</td>\n",
       "      <td>1</td>\n",
       "      <td>2018</td>\n",
       "    </tr>\n",
       "    <tr>\n",
       "      <th>...</th>\n",
       "      <td>...</td>\n",
       "      <td>...</td>\n",
       "      <td>...</td>\n",
       "      <td>...</td>\n",
       "      <td>...</td>\n",
       "      <td>...</td>\n",
       "      <td>...</td>\n",
       "      <td>...</td>\n",
       "      <td>...</td>\n",
       "      <td>...</td>\n",
       "      <td>...</td>\n",
       "      <td>...</td>\n",
       "      <td>...</td>\n",
       "      <td>...</td>\n",
       "      <td>...</td>\n",
       "      <td>...</td>\n",
       "      <td>...</td>\n",
       "      <td>...</td>\n",
       "      <td>...</td>\n",
       "      <td>...</td>\n",
       "      <td>...</td>\n",
       "    </tr>\n",
       "    <tr>\n",
       "      <th>10834</th>\n",
       "      <td>FR Calculator</td>\n",
       "      <td>FAMILY</td>\n",
       "      <td>4.0</td>\n",
       "      <td>7</td>\n",
       "      <td>2.6</td>\n",
       "      <td>7</td>\n",
       "      <td>0</td>\n",
       "      <td>Everyone</td>\n",
       "      <td>Education</td>\n",
       "      <td>17</td>\n",
       "      <td>...</td>\n",
       "      <td>0</td>\n",
       "      <td>0</td>\n",
       "      <td>1</td>\n",
       "      <td>0</td>\n",
       "      <td>1</td>\n",
       "      <td>0</td>\n",
       "      <td>0</td>\n",
       "      <td>1</td>\n",
       "      <td>1</td>\n",
       "      <td>2017</td>\n",
       "    </tr>\n",
       "    <tr>\n",
       "      <th>10835</th>\n",
       "      <td>FR Forms</td>\n",
       "      <td>BUSINESS</td>\n",
       "      <td>4.4</td>\n",
       "      <td>0</td>\n",
       "      <td>9.6</td>\n",
       "      <td>4</td>\n",
       "      <td>0</td>\n",
       "      <td>Everyone</td>\n",
       "      <td>Business</td>\n",
       "      <td>14</td>\n",
       "      <td>...</td>\n",
       "      <td>0</td>\n",
       "      <td>0</td>\n",
       "      <td>1</td>\n",
       "      <td>0</td>\n",
       "      <td>0</td>\n",
       "      <td>0</td>\n",
       "      <td>1</td>\n",
       "      <td>0</td>\n",
       "      <td>1</td>\n",
       "      <td>2016</td>\n",
       "    </tr>\n",
       "    <tr>\n",
       "      <th>10836</th>\n",
       "      <td>Sya9a Maroc - FR</td>\n",
       "      <td>FAMILY</td>\n",
       "      <td>4.5</td>\n",
       "      <td>38</td>\n",
       "      <td>53.0</td>\n",
       "      <td>9</td>\n",
       "      <td>0</td>\n",
       "      <td>Everyone</td>\n",
       "      <td>Education</td>\n",
       "      <td>17</td>\n",
       "      <td>...</td>\n",
       "      <td>0</td>\n",
       "      <td>0</td>\n",
       "      <td>1</td>\n",
       "      <td>0</td>\n",
       "      <td>1</td>\n",
       "      <td>0</td>\n",
       "      <td>0</td>\n",
       "      <td>1</td>\n",
       "      <td>1</td>\n",
       "      <td>2017</td>\n",
       "    </tr>\n",
       "    <tr>\n",
       "      <th>10837</th>\n",
       "      <td>Fr. Mike Schmitz Audio Teachings</td>\n",
       "      <td>FAMILY</td>\n",
       "      <td>5.0</td>\n",
       "      <td>4</td>\n",
       "      <td>3.6</td>\n",
       "      <td>6</td>\n",
       "      <td>0</td>\n",
       "      <td>Everyone</td>\n",
       "      <td>Education</td>\n",
       "      <td>17</td>\n",
       "      <td>...</td>\n",
       "      <td>0</td>\n",
       "      <td>0</td>\n",
       "      <td>1</td>\n",
       "      <td>0</td>\n",
       "      <td>1</td>\n",
       "      <td>0</td>\n",
       "      <td>0</td>\n",
       "      <td>1</td>\n",
       "      <td>1</td>\n",
       "      <td>2018</td>\n",
       "    </tr>\n",
       "    <tr>\n",
       "      <th>10838</th>\n",
       "      <td>Parkinson Exercices FR</td>\n",
       "      <td>MEDICAL</td>\n",
       "      <td>4.4</td>\n",
       "      <td>3</td>\n",
       "      <td>9.5</td>\n",
       "      <td>8</td>\n",
       "      <td>0</td>\n",
       "      <td>Everyone</td>\n",
       "      <td>Medical</td>\n",
       "      <td>7</td>\n",
       "      <td>...</td>\n",
       "      <td>0</td>\n",
       "      <td>0</td>\n",
       "      <td>1</td>\n",
       "      <td>0</td>\n",
       "      <td>1</td>\n",
       "      <td>0</td>\n",
       "      <td>1</td>\n",
       "      <td>0</td>\n",
       "      <td>0</td>\n",
       "      <td>2017</td>\n",
       "    </tr>\n",
       "  </tbody>\n",
       "</table>\n",
       "<p>8768 rows × 27 columns</p>\n",
       "</div>"
      ],
      "text/plain": [
       "                                                     App        Category  \\\n",
       "0         Photo Editor & Candy Camera & Grid & ScrapBook  ART_AND_DESIGN   \n",
       "1                                    Coloring book moana  ART_AND_DESIGN   \n",
       "2      U Launcher Lite – FREE Live Cool Themes, Hide ...  ART_AND_DESIGN   \n",
       "3                                  Sketch - Draw & Paint  ART_AND_DESIGN   \n",
       "4                  Pixel Draw - Number Art Coloring Book  ART_AND_DESIGN   \n",
       "...                                                  ...             ...   \n",
       "10834                                      FR Calculator          FAMILY   \n",
       "10835                                           FR Forms        BUSINESS   \n",
       "10836                                   Sya9a Maroc - FR          FAMILY   \n",
       "10837                   Fr. Mike Schmitz Audio Teachings          FAMILY   \n",
       "10838                             Parkinson Exercices FR         MEDICAL   \n",
       "\n",
       "       Rating Reviews  Size  Installs Price Content Rating  \\\n",
       "0         4.1     159  19.0        10     0       Everyone   \n",
       "1         3.9     967  14.0        13     0       Everyone   \n",
       "2         4.7   87510   8.7        15     0       Everyone   \n",
       "3         4.5  215644  25.0        17     0           Teen   \n",
       "4         4.3     967   2.8        12     0       Everyone   \n",
       "...       ...     ...   ...       ...   ...            ...   \n",
       "10834     4.0       7   2.6         7     0       Everyone   \n",
       "10835     4.4       0   9.6         4     0       Everyone   \n",
       "10836     4.5      38  53.0         9     0       Everyone   \n",
       "10837     5.0       4   3.6         6     0       Everyone   \n",
       "10838     4.4       3   9.5         8     0       Everyone   \n",
       "\n",
       "                          Genres  Android Ver  ...  Content Rating_0  \\\n",
       "0                   Art & Design           15  ...                 0   \n",
       "1      Art & Design;Pretend Play           15  ...                 0   \n",
       "2                   Art & Design           15  ...                 0   \n",
       "3                   Art & Design           19  ...                 0   \n",
       "4        Art & Design;Creativity           21  ...                 0   \n",
       "...                          ...          ...  ...               ...   \n",
       "10834                  Education           17  ...                 0   \n",
       "10835                   Business           14  ...                 0   \n",
       "10836                  Education           17  ...                 0   \n",
       "10837                  Education           17  ...                 0   \n",
       "10838                    Medical            7  ...                 0   \n",
       "\n",
       "       Content Rating_1  Content Rating_2  Category_0  Category_1  Category_2  \\\n",
       "0                     0                 1           0           0           0   \n",
       "1                     0                 1           0           0           0   \n",
       "2                     0                 1           0           0           0   \n",
       "3                     1                 0           0           0           0   \n",
       "4                     0                 1           0           0           0   \n",
       "...                 ...               ...         ...         ...         ...   \n",
       "10834                 0                 1           0           1           0   \n",
       "10835                 0                 1           0           0           0   \n",
       "10836                 0                 1           0           1           0   \n",
       "10837                 0                 1           0           1           0   \n",
       "10838                 0                 1           0           1           0   \n",
       "\n",
       "       Category_3  Category_4  Category_5  update year  \n",
       "0               0           0           1         2018  \n",
       "1               0           0           1         2018  \n",
       "2               0           0           1         2018  \n",
       "3               0           0           1         2018  \n",
       "4               0           0           1         2018  \n",
       "...           ...         ...         ...          ...  \n",
       "10834           0           1           1         2017  \n",
       "10835           1           0           1         2016  \n",
       "10836           0           1           1         2017  \n",
       "10837           0           1           1         2018  \n",
       "10838           1           0           0         2017  \n",
       "\n",
       "[8768 rows x 27 columns]"
      ]
     },
     "execution_count": 931,
     "metadata": {},
     "output_type": "execute_result"
    }
   ],
   "source": [
    "df.convert_dtypes()\n"
   ]
  },
  {
   "cell_type": "code",
   "execution_count": 932,
   "metadata": {},
   "outputs": [
    {
     "data": {
      "text/plain": [
       "array([15, 19, 21,  9, 11, 17, 14,  7, 23, 28,  3,  6, 27,  2, 29, 20, 16,\n",
       "        4, 10, 13, 22, 31, 30, 32, 26, 12,  5, 18, 24,  1,  8, 25],\n",
       "      dtype=int64)"
      ]
     },
     "execution_count": 932,
     "metadata": {},
     "output_type": "execute_result"
    }
   ],
   "source": [
    "df[\"Android Ver\"].unique()"
   ]
  },
  {
   "cell_type": "code",
   "execution_count": 933,
   "metadata": {},
   "outputs": [
    {
     "name": "stdout",
     "output_type": "stream",
     "text": [
      "<class 'pandas.core.frame.DataFrame'>\n",
      "Index: 8768 entries, 0 to 10838\n",
      "Data columns (total 27 columns):\n",
      " #   Column            Non-Null Count  Dtype  \n",
      "---  ------            --------------  -----  \n",
      " 0   App               8768 non-null   object \n",
      " 1   Category          8768 non-null   object \n",
      " 2   Rating            8768 non-null   float64\n",
      " 3   Reviews           8768 non-null   int32  \n",
      " 4   Size              8768 non-null   float64\n",
      " 5   Installs          8768 non-null   int64  \n",
      " 6   Price             8768 non-null   object \n",
      " 7   Content Rating    8768 non-null   object \n",
      " 8   Genres            8768 non-null   object \n",
      " 9   Android Ver       8768 non-null   int32  \n",
      " 10  Genres_0          8768 non-null   int64  \n",
      " 11  Genres_1          8768 non-null   int64  \n",
      " 12  Genres_2          8768 non-null   int64  \n",
      " 13  Genres_3          8768 non-null   int64  \n",
      " 14  Genres_4          8768 non-null   int64  \n",
      " 15  Genres_5          8768 non-null   int64  \n",
      " 16  Genres_6          8768 non-null   int64  \n",
      " 17  Content Rating_0  8768 non-null   int64  \n",
      " 18  Content Rating_1  8768 non-null   int64  \n",
      " 19  Content Rating_2  8768 non-null   int64  \n",
      " 20  Category_0        8768 non-null   int64  \n",
      " 21  Category_1        8768 non-null   int64  \n",
      " 22  Category_2        8768 non-null   int64  \n",
      " 23  Category_3        8768 non-null   int64  \n",
      " 24  Category_4        8768 non-null   int64  \n",
      " 25  Category_5        8768 non-null   int64  \n",
      " 26  update year       8768 non-null   int32  \n",
      "dtypes: float64(2), int32(3), int64(17), object(5)\n",
      "memory usage: 1.8+ MB\n"
     ]
    },
    {
     "name": "stderr",
     "output_type": "stream",
     "text": [
      "C:\\Users\\kareem\\AppData\\Local\\Temp\\ipykernel_15568\\3208664122.py:1: SettingWithCopyWarning: \n",
      "A value is trying to be set on a copy of a slice from a DataFrame.\n",
      "Try using .loc[row_indexer,col_indexer] = value instead\n",
      "\n",
      "See the caveats in the documentation: https://pandas.pydata.org/pandas-docs/stable/user_guide/indexing.html#returning-a-view-versus-a-copy\n",
      "  df[\"update year\"]=df[\"update year\"].astype(int)\n",
      "C:\\Users\\kareem\\AppData\\Local\\Temp\\ipykernel_15568\\3208664122.py:2: SettingWithCopyWarning: \n",
      "A value is trying to be set on a copy of a slice from a DataFrame.\n",
      "Try using .loc[row_indexer,col_indexer] = value instead\n",
      "\n",
      "See the caveats in the documentation: https://pandas.pydata.org/pandas-docs/stable/user_guide/indexing.html#returning-a-view-versus-a-copy\n",
      "  df[\"Reviews\"]=df[\"Reviews\"].astype(int)\n",
      "C:\\Users\\kareem\\AppData\\Local\\Temp\\ipykernel_15568\\3208664122.py:3: SettingWithCopyWarning: \n",
      "A value is trying to be set on a copy of a slice from a DataFrame.\n",
      "Try using .loc[row_indexer,col_indexer] = value instead\n",
      "\n",
      "See the caveats in the documentation: https://pandas.pydata.org/pandas-docs/stable/user_guide/indexing.html#returning-a-view-versus-a-copy\n",
      "  df[\"Android Ver\"]=df[\"Android Ver\"].astype(int)\n"
     ]
    }
   ],
   "source": [
    "\n",
    "df[\"update year\"]=df[\"update year\"].astype(int)\n",
    "df[\"Reviews\"]=df[\"Reviews\"].astype(int)\n",
    "df[\"Android Ver\"]=df[\"Android Ver\"].astype(int)\n",
    "df.info()"
   ]
  },
  {
   "cell_type": "markdown",
   "metadata": {},
   "source": [
    "fix price"
   ]
  },
  {
   "cell_type": "code",
   "execution_count": 934,
   "metadata": {},
   "outputs": [
    {
     "name": "stderr",
     "output_type": "stream",
     "text": [
      "C:\\Users\\kareem\\AppData\\Local\\Temp\\ipykernel_15568\\126503136.py:6: SettingWithCopyWarning: \n",
      "A value is trying to be set on a copy of a slice from a DataFrame.\n",
      "Try using .loc[row_indexer,col_indexer] = value instead\n",
      "\n",
      "See the caveats in the documentation: https://pandas.pydata.org/pandas-docs/stable/user_guide/indexing.html#returning-a-view-versus-a-copy\n",
      "  df[\"Price\"]=df[\"Price\"].apply(lambda x : fix(x))\n",
      "C:\\Users\\kareem\\AppData\\Local\\Temp\\ipykernel_15568\\126503136.py:7: SettingWithCopyWarning: \n",
      "A value is trying to be set on a copy of a slice from a DataFrame.\n",
      "Try using .loc[row_indexer,col_indexer] = value instead\n",
      "\n",
      "See the caveats in the documentation: https://pandas.pydata.org/pandas-docs/stable/user_guide/indexing.html#returning-a-view-versus-a-copy\n",
      "  df[\"Price\"]=df[\"Price\"].astype(float)\n"
     ]
    }
   ],
   "source": [
    "def fix(x):\n",
    "    if x[0]=='$':\n",
    "        return x[1:]\n",
    "    else:\n",
    "        return x\n",
    "df[\"Price\"]=df[\"Price\"].apply(lambda x : fix(x))\n",
    "df[\"Price\"]=df[\"Price\"].astype(float)"
   ]
  },
  {
   "cell_type": "code",
   "execution_count": 935,
   "metadata": {},
   "outputs": [
    {
     "name": "stdout",
     "output_type": "stream",
     "text": [
      "<class 'pandas.core.frame.DataFrame'>\n",
      "Index: 8768 entries, 0 to 10838\n",
      "Data columns (total 27 columns):\n",
      " #   Column            Non-Null Count  Dtype  \n",
      "---  ------            --------------  -----  \n",
      " 0   App               8768 non-null   object \n",
      " 1   Category          8768 non-null   object \n",
      " 2   Rating            8768 non-null   float64\n",
      " 3   Reviews           8768 non-null   int32  \n",
      " 4   Size              8768 non-null   float64\n",
      " 5   Installs          8768 non-null   int64  \n",
      " 6   Price             8768 non-null   float64\n",
      " 7   Content Rating    8768 non-null   object \n",
      " 8   Genres            8768 non-null   object \n",
      " 9   Android Ver       8768 non-null   int32  \n",
      " 10  Genres_0          8768 non-null   int64  \n",
      " 11  Genres_1          8768 non-null   int64  \n",
      " 12  Genres_2          8768 non-null   int64  \n",
      " 13  Genres_3          8768 non-null   int64  \n",
      " 14  Genres_4          8768 non-null   int64  \n",
      " 15  Genres_5          8768 non-null   int64  \n",
      " 16  Genres_6          8768 non-null   int64  \n",
      " 17  Content Rating_0  8768 non-null   int64  \n",
      " 18  Content Rating_1  8768 non-null   int64  \n",
      " 19  Content Rating_2  8768 non-null   int64  \n",
      " 20  Category_0        8768 non-null   int64  \n",
      " 21  Category_1        8768 non-null   int64  \n",
      " 22  Category_2        8768 non-null   int64  \n",
      " 23  Category_3        8768 non-null   int64  \n",
      " 24  Category_4        8768 non-null   int64  \n",
      " 25  Category_5        8768 non-null   int64  \n",
      " 26  update year       8768 non-null   int32  \n",
      "dtypes: float64(3), int32(3), int64(17), object(4)\n",
      "memory usage: 1.8+ MB\n"
     ]
    }
   ],
   "source": [
    "df.info()"
   ]
  },
  {
   "cell_type": "markdown",
   "metadata": {},
   "source": [
    "**DATA STATISTICS and VISUALIZATION**"
   ]
  },
  {
   "cell_type": "markdown",
   "metadata": {},
   "source": [
    "before remoing outliers"
   ]
  },
  {
   "cell_type": "code",
   "execution_count": 936,
   "metadata": {},
   "outputs": [
    {
     "data": {
      "text/plain": [
       "(array([  17.,   18.,   38.,   71.,  126.,  403.,  755., 2031., 3730.,\n",
       "        1579.]),\n",
       " array([1. , 1.4, 1.8, 2.2, 2.6, 3. , 3.4, 3.8, 4.2, 4.6, 5. ]),\n",
       " <BarContainer object of 10 artists>)"
      ]
     },
     "execution_count": 936,
     "metadata": {},
     "output_type": "execute_result"
    },
    {
     "data": {
      "image/png": "[encoded data removed]",
      "text/plain": [
       "<Figure size 640x480 with 1 Axes>"
      ]
     },
     "metadata": {},
     "output_type": "display_data"
    }
   ],
   "source": [
    "plt.hist(df[\"Rating\"])"
   ]
  },
  {
   "cell_type": "code",
   "execution_count": 937,
   "metadata": {},
   "outputs": [
    {
     "data": {
      "text/plain": [
       "(array([8.656e+03, 6.500e+01, 2.000e+01, 1.000e+01, 5.000e+00, 4.000e+00,\n",
       "        5.000e+00, 0.000e+00, 0.000e+00, 3.000e+00]),\n",
       " array([       0. ,  4489388.8,  8978777.6, 13468166.4, 17957555.2,\n",
       "        22446944. , 26936332.8, 31425721.6, 35915110.4, 40404499.2,\n",
       "        44893888. ]),\n",
       " <BarContainer object of 10 artists>)"
      ]
     },
     "execution_count": 937,
     "metadata": {},
     "output_type": "execute_result"
    },
    {
     "data": {
      "image/png": "[encoded data removed]",
      "text/plain": [
       "<Figure size 640x480 with 1 Axes>"
      ]
     },
     "metadata": {},
     "output_type": "display_data"
    }
   ],
   "source": [
    "plt.hist(df[\"Reviews\"])"
   ]
  },
  {
   "cell_type": "code",
   "execution_count": 938,
   "metadata": {},
   "outputs": [
    {
     "data": {
      "text/plain": [
       "(array([3973., 1578., 1114.,  623.,  462.,  320.,  230.,  158.,  115.,\n",
       "         195.]),\n",
       " array([8.500000e-03, 1.000765e+01, 2.000680e+01, 3.000595e+01,\n",
       "        4.000510e+01, 5.000425e+01, 6.000340e+01, 7.000255e+01,\n",
       "        8.000170e+01, 9.000085e+01, 1.000000e+02]),\n",
       " <BarContainer object of 10 artists>)"
      ]
     },
     "execution_count": 938,
     "metadata": {},
     "output_type": "execute_result"
    },
    {
     "data": {
      "image/png": "[encoded data removed]",
      "text/plain": [
       "<Figure size 640x480 with 1 Axes>"
      ]
     },
     "metadata": {},
     "output_type": "display_data"
    }
   ],
   "source": [
    "plt.hist(df[\"Size\"])"
   ]
  },
  {
   "cell_type": "code",
   "execution_count": 939,
   "metadata": {},
   "outputs": [
    {
     "data": {
      "text/plain": [
       "(array([1.000e+00, 1.500e+01, 2.500e+01, 1.010e+02, 0.000e+00, 1.960e+02,\n",
       "        4.360e+02, 7.310e+02, 1.696e+03, 5.567e+03]),\n",
       " array([2010. , 2010.8, 2011.6, 2012.4, 2013.2, 2014. , 2014.8, 2015.6,\n",
       "        2016.4, 2017.2, 2018. ]),\n",
       " <BarContainer object of 10 artists>)"
      ]
     },
     "execution_count": 939,
     "metadata": {},
     "output_type": "execute_result"
    },
    {
     "data": {
      "image/png": "[encoded data removed]",
      "text/plain": [
       "<Figure size 640x480 with 1 Axes>"
      ]
     },
     "metadata": {},
     "output_type": "display_data"
    }
   ],
   "source": [
    "plt.hist(df[\"update year\"])"
   ]
  },
  {
   "cell_type": "code",
   "execution_count": 940,
   "metadata": {},
   "outputs": [
    {
     "data": {
      "text/plain": [
       "(array([  78.,  452.,  890., 1171., 1440., 1454., 1689., 1234.,  331.,\n",
       "          29.]),\n",
       " array([ 1. ,  2.9,  4.8,  6.7,  8.6, 10.5, 12.4, 14.3, 16.2, 18.1, 20. ]),\n",
       " <BarContainer object of 10 artists>)"
      ]
     },
     "execution_count": 940,
     "metadata": {},
     "output_type": "execute_result"
    },
    {
     "data": {
      "image/png": "[encoded data removed]",
      "text/plain": [
       "<Figure size 640x480 with 1 Axes>"
      ]
     },
     "metadata": {},
     "output_type": "display_data"
    }
   ],
   "source": [
    "plt.hist(df[\"Installs\"])"
   ]
  },
  {
   "cell_type": "code",
   "execution_count": 941,
   "metadata": {},
   "outputs": [
    {
     "data": {
      "text/plain": [
       "(array([8.744e+03, 3.000e+00, 2.000e+00, 1.000e+00, 0.000e+00, 1.000e+00,\n",
       "        0.000e+00, 1.000e+00, 0.000e+00, 1.600e+01]),\n",
       " array([  0.,  40.,  80., 120., 160., 200., 240., 280., 320., 360., 400.]),\n",
       " <BarContainer object of 10 artists>)"
      ]
     },
     "execution_count": 941,
     "metadata": {},
     "output_type": "execute_result"
    },
    {
     "data": {
      "image/png": "[encoded data removed]",
      "text/plain": [
       "<Figure size 640x480 with 1 Axes>"
      ]
     },
     "metadata": {},
     "output_type": "display_data"
    }
   ],
   "source": [
    "plt.hist(df[\"Price\"])"
   ]
  },
  {
   "cell_type": "code",
   "execution_count": 942,
   "metadata": {},
   "outputs": [
    {
     "data": {
      "text/plain": [
       "(array([ 165.,  376.,  901.,  282., 2719., 2616., 1069.,  513.,   78.,\n",
       "          49.]),\n",
       " array([ 1. ,  4.1,  7.2, 10.3, 13.4, 16.5, 19.6, 22.7, 25.8, 28.9, 32. ]),\n",
       " <BarContainer object of 10 artists>)"
      ]
     },
     "execution_count": 942,
     "metadata": {},
     "output_type": "execute_result"
    },
    {
     "data": {
      "image/png": "[encoded data removed]",
      "text/plain": [
       "<Figure size 640x480 with 1 Axes>"
      ]
     },
     "metadata": {},
     "output_type": "display_data"
    }
   ],
   "source": [
    "plt.hist(df[\"Android Ver\"])"
   ]
  },
  {
   "cell_type": "code",
   "execution_count": 943,
   "metadata": {},
   "outputs": [
    {
     "name": "stderr",
     "output_type": "stream",
     "text": [
      "C:\\Users\\kareem\\AppData\\Local\\Temp\\ipykernel_15568\\569482319.py:1: SettingWithCopyWarning: \n",
      "A value is trying to be set on a copy of a slice from a DataFrame.\n",
      "Try using .loc[row_indexer,col_indexer] = value instead\n",
      "\n",
      "See the caveats in the documentation: https://pandas.pydata.org/pandas-docs/stable/user_guide/indexing.html#returning-a-view-versus-a-copy\n",
      "  df[\"content_rating\"]=df[\"Content Rating_0\"].astype(str)+df[\"Content Rating_1\"].astype(str)+df[\"Content Rating_2\"].astype(str)\n"
     ]
    },
    {
     "data": {
      "text/plain": [
       "(array([7.145e+03, 0.000e+00, 9.410e+02, 0.000e+00, 3.110e+02, 0.000e+00,\n",
       "        3.670e+02, 0.000e+00, 2.000e+00, 2.000e+00]),\n",
       " array([0. , 0.5, 1. , 1.5, 2. , 2.5, 3. , 3.5, 4. , 4.5, 5. ]),\n",
       " <BarContainer object of 10 artists>)"
      ]
     },
     "execution_count": 943,
     "metadata": {},
     "output_type": "execute_result"
    },
    {
     "data": {
      "image/png": "[encoded data removed]",
      "text/plain": [
       "<Figure size 640x480 with 1 Axes>"
      ]
     },
     "metadata": {},
     "output_type": "display_data"
    }
   ],
   "source": [
    "df[\"content_rating\"]=df[\"Content Rating_0\"].astype(str)+df[\"Content Rating_1\"].astype(str)+df[\"Content Rating_2\"].astype(str)\n",
    "\n",
    "plt.hist(df[\"content_rating\"])\n",
    "#removing outliers from the data will corrupt it"
   ]
  },
  {
   "cell_type": "markdown",
   "metadata": {},
   "source": [
    "installs , size and android version seems to be ok with no outliers"
   ]
  },
  {
   "cell_type": "markdown",
   "metadata": {},
   "source": [
    "REMOVE OUTLIERS"
   ]
  },
  {
   "cell_type": "code",
   "execution_count": 944,
   "metadata": {},
   "outputs": [
    {
     "data": {
      "text/plain": [
       "Index(['App', 'Category', 'Rating', 'Reviews', 'Size', 'Installs', 'Price',\n",
       "       'Content Rating', 'Genres', 'Android Ver', 'Genres_0', 'Genres_1',\n",
       "       'Genres_2', 'Genres_3', 'Genres_4', 'Genres_5', 'Genres_6',\n",
       "       'Content Rating_0', 'Content Rating_1', 'Content Rating_2',\n",
       "       'Category_0', 'Category_1', 'Category_2', 'Category_3', 'Category_4',\n",
       "       'Category_5', 'update year', 'content_rating'],\n",
       "      dtype='object')"
      ]
     },
     "execution_count": 944,
     "metadata": {},
     "output_type": "execute_result"
    }
   ],
   "source": [
    "df.columns"
   ]
  },
  {
   "cell_type": "code",
   "execution_count": 945,
   "metadata": {},
   "outputs": [
    {
     "name": "stderr",
     "output_type": "stream",
     "text": [
      "C:\\Users\\kareem\\AppData\\Local\\Temp\\ipykernel_15568\\2885473464.py:2: SettingWithCopyWarning: \n",
      "A value is trying to be set on a copy of a slice from a DataFrame\n",
      "\n",
      "See the caveats in the documentation: https://pandas.pydata.org/pandas-docs/stable/user_guide/indexing.html#returning-a-view-versus-a-copy\n",
      "  df.drop(columns=\"App\",inplace=True)\n"
     ]
    },
    {
     "data": {
      "text/plain": [
       "(8768, 27)"
      ]
     },
     "execution_count": 945,
     "metadata": {},
     "output_type": "execute_result"
    }
   ],
   "source": [
    "names=df[\"App\"]\n",
    "df.drop(columns=\"App\",inplace=True)\n",
    "df.shape\n"
   ]
  },
  {
   "cell_type": "code",
   "execution_count": 946,
   "metadata": {},
   "outputs": [
    {
     "name": "stdout",
     "output_type": "stream",
     "text": [
      "content_rating\n",
      "1      7145\n",
      "10      941\n",
      "100     367\n",
      "11      311\n",
      "101       2\n",
      "110       2\n",
      "Name: count, dtype: int64\n"
     ]
    },
    {
     "name": "stderr",
     "output_type": "stream",
     "text": [
      "C:\\Users\\kareem\\AppData\\Local\\Temp\\ipykernel_15568\\2796162279.py:1: SettingWithCopyWarning: \n",
      "A value is trying to be set on a copy of a slice from a DataFrame.\n",
      "Try using .loc[row_indexer,col_indexer] = value instead\n",
      "\n",
      "See the caveats in the documentation: https://pandas.pydata.org/pandas-docs/stable/user_guide/indexing.html#returning-a-view-versus-a-copy\n",
      "  df[\"content_rating\"]=df[\"Content Rating_0\"].astype(str)+df[\"Content Rating_1\"].astype(str)+df[\"Content Rating_2\"].astype(str)\n",
      "C:\\Users\\kareem\\AppData\\Local\\Temp\\ipykernel_15568\\2796162279.py:3: SettingWithCopyWarning: \n",
      "A value is trying to be set on a copy of a slice from a DataFrame.\n",
      "Try using .loc[row_indexer,col_indexer] = value instead\n",
      "\n",
      "See the caveats in the documentation: https://pandas.pydata.org/pandas-docs/stable/user_guide/indexing.html#returning-a-view-versus-a-copy\n",
      "  df[\"category\"]=df[\"Category_0\"].astype(str)+df[\"Category_1\"].astype(str)+df[\"Category_2\"].astype(str)+df[\"Category_3\"].astype(str)+df[\"Category_4\"].astype(str)+df[\"Category_5\"].astype(str)\n",
      "C:\\Users\\kareem\\AppData\\Local\\Temp\\ipykernel_15568\\2796162279.py:4: SettingWithCopyWarning: \n",
      "A value is trying to be set on a copy of a slice from a DataFrame.\n",
      "Try using .loc[row_indexer,col_indexer] = value instead\n",
      "\n",
      "See the caveats in the documentation: https://pandas.pydata.org/pandas-docs/stable/user_guide/indexing.html#returning-a-view-versus-a-copy\n",
      "  df[\"category\"]=df[\"category\"].astype(int)\n",
      "C:\\Users\\kareem\\AppData\\Local\\Temp\\ipykernel_15568\\2796162279.py:6: SettingWithCopyWarning: \n",
      "A value is trying to be set on a copy of a slice from a DataFrame.\n",
      "Try using .loc[row_indexer,col_indexer] = value instead\n",
      "\n",
      "See the caveats in the documentation: https://pandas.pydata.org/pandas-docs/stable/user_guide/indexing.html#returning-a-view-versus-a-copy\n",
      "  df[\"content_rating\"]=df[\"content_rating\"].astype(int)\n",
      "C:\\Users\\kareem\\AppData\\Local\\Temp\\ipykernel_15568\\2796162279.py:12: SettingWithCopyWarning: \n",
      "A value is trying to be set on a copy of a slice from a DataFrame\n",
      "\n",
      "See the caveats in the documentation: https://pandas.pydata.org/pandas-docs/stable/user_guide/indexing.html#returning-a-view-versus-a-copy\n",
      "  df.drop(outliers_indices,inplace=True)\n"
     ]
    }
   ],
   "source": [
    "df[\"content_rating\"]=df[\"Content Rating_0\"].astype(str)+df[\"Content Rating_1\"].astype(str)+df[\"Content Rating_2\"].astype(str)\n",
    "df[\"Content Rating_0\"].shape\n",
    "df[\"category\"]=df[\"Category_0\"].astype(str)+df[\"Category_1\"].astype(str)+df[\"Category_2\"].astype(str)+df[\"Category_3\"].astype(str)+df[\"Category_4\"].astype(str)+df[\"Category_5\"].astype(str)\n",
    "df[\"category\"]=df[\"category\"].astype(int)\n",
    "\n",
    "df[\"content_rating\"]=df[\"content_rating\"].astype(int)\n",
    "print(df[\"content_rating\"].value_counts())\n",
    "cols_with_outliers=['update year',\"Reviews\",\"Rating\"]\n",
    "\n",
    "\n",
    "outliers_indices=detect_outliers(df,0,cols_with_outliers)\n",
    "df.drop(outliers_indices,inplace=True)"
   ]
  },
  {
   "cell_type": "code",
   "execution_count": 947,
   "metadata": {},
   "outputs": [
    {
     "data": {
      "text/plain": [
       "(array([6.067e+03, 3.000e+00, 2.000e+00, 1.000e+00, 0.000e+00, 0.000e+00,\n",
       "        0.000e+00, 1.000e+00, 0.000e+00, 1.500e+01]),\n",
       " array([  0.,  40.,  80., 120., 160., 200., 240., 280., 320., 360., 400.]),\n",
       " <BarContainer object of 10 artists>)"
      ]
     },
     "execution_count": 947,
     "metadata": {},
     "output_type": "execute_result"
    },
    {
     "data": {
      "image/png": "[encoded data removed]",
      "text/plain": [
       "<Figure size 640x480 with 1 Axes>"
      ]
     },
     "metadata": {},
     "output_type": "display_data"
    }
   ],
   "source": [
    "plt.hist(df[\"Price\"])"
   ]
  },
  {
   "cell_type": "code",
   "execution_count": 948,
   "metadata": {},
   "outputs": [
    {
     "data": {
      "text/plain": [
       "(array([  78.,  128.,  539.,  164., 2006., 1893.,  777.,  397.,   63.,\n",
       "          44.]),\n",
       " array([ 1. ,  4.1,  7.2, 10.3, 13.4, 16.5, 19.6, 22.7, 25.8, 28.9, 32. ]),\n",
       " <BarContainer object of 10 artists>)"
      ]
     },
     "execution_count": 948,
     "metadata": {},
     "output_type": "execute_result"
    },
    {
     "data": {
      "image/png": "[encoded data removed]",
      "text/plain": [
       "<Figure size 640x480 with 1 Axes>"
      ]
     },
     "metadata": {},
     "output_type": "display_data"
    }
   ],
   "source": [
    "plt.hist(df[\"Android Ver\"])"
   ]
  },
  {
   "cell_type": "code",
   "execution_count": 949,
   "metadata": {},
   "outputs": [
    {
     "data": {
      "text/plain": [
       "(array([  76.,  413.,  763.,  268., 1027., 1117.,  834., 1340.,  248.,\n",
       "           3.]),\n",
       " array([ 1. ,  2.7,  4.4,  6.1,  7.8,  9.5, 11.2, 12.9, 14.6, 16.3, 18. ]),\n",
       " <BarContainer object of 10 artists>)"
      ]
     },
     "execution_count": 949,
     "metadata": {},
     "output_type": "execute_result"
    },
    {
     "data": {
      "image/png": "[encoded data removed]",
      "text/plain": [
       "<Figure size 640x480 with 1 Axes>"
      ]
     },
     "metadata": {},
     "output_type": "display_data"
    }
   ],
   "source": [
    "plt.hist(df[\"Installs\"])"
   ]
  },
  {
   "cell_type": "code",
   "execution_count": 950,
   "metadata": {},
   "outputs": [
    {
     "data": {
      "text/plain": [
       "(array([ 168.,  255.,  354.,  244.,  726., 1604., 1120.,  832.,  463.,\n",
       "         323.]),\n",
       " array([3.3 , 3.47, 3.64, 3.81, 3.98, 4.15, 4.32, 4.49, 4.66, 4.83, 5.  ]),\n",
       " <BarContainer object of 10 artists>)"
      ]
     },
     "execution_count": 950,
     "metadata": {},
     "output_type": "execute_result"
    },
    {
     "data": {
      "image/png": "[encoded data removed]",
      "text/plain": [
       "<Figure size 640x480 with 1 Axes>"
      ]
     },
     "metadata": {},
     "output_type": "display_data"
    }
   ],
   "source": [
    "plt.hist(df[\"Rating\"])"
   ]
  },
  {
   "cell_type": "code",
   "execution_count": 951,
   "metadata": {},
   "outputs": [
    {
     "data": {
      "text/plain": [
       "(array([4686.,  404.,  239.,  165.,  146.,  121.,  105.,   96.,   72.,\n",
       "          55.]),\n",
       " array([    0.,  5538., 11076., 16614., 22152., 27690., 33228., 38766.,\n",
       "        44304., 49842., 55380.]),\n",
       " <BarContainer object of 10 artists>)"
      ]
     },
     "execution_count": 951,
     "metadata": {},
     "output_type": "execute_result"
    },
    {
     "data": {
      "image/png": "[encoded data removed]",
      "text/plain": [
       "<Figure size 640x480 with 1 Axes>"
      ]
     },
     "metadata": {},
     "output_type": "display_data"
    }
   ],
   "source": [
    "plt.hist(df[\"Reviews\"])"
   ]
  },
  {
   "cell_type": "code",
   "execution_count": 952,
   "metadata": {},
   "outputs": [
    {
     "data": {
      "text/plain": [
       "(array([2910., 1176.,  805.,  394.,  279.,  170.,  128.,   74.,   64.,\n",
       "          89.]),\n",
       " array([8.500000e-03, 1.000765e+01, 2.000680e+01, 3.000595e+01,\n",
       "        4.000510e+01, 5.000425e+01, 6.000340e+01, 7.000255e+01,\n",
       "        8.000170e+01, 9.000085e+01, 1.000000e+02]),\n",
       " <BarContainer object of 10 artists>)"
      ]
     },
     "execution_count": 952,
     "metadata": {},
     "output_type": "execute_result"
    },
    {
     "data": {
      "image/png": "[encoded data removed]",
      "text/plain": [
       "<Figure size 640x480 with 1 Axes>"
      ]
     },
     "metadata": {},
     "output_type": "display_data"
    }
   ],
   "source": [
    "plt.hist(df[\"Size\"])"
   ]
  },
  {
   "cell_type": "code",
   "execution_count": 953,
   "metadata": {},
   "outputs": [
    {
     "name": "stderr",
     "output_type": "stream",
     "text": [
      "C:\\Users\\kareem\\AppData\\Local\\Temp\\ipykernel_15568\\3025127880.py:1: SettingWithCopyWarning: \n",
      "A value is trying to be set on a copy of a slice from a DataFrame.\n",
      "Try using .loc[row_indexer,col_indexer] = value instead\n",
      "\n",
      "See the caveats in the documentation: https://pandas.pydata.org/pandas-docs/stable/user_guide/indexing.html#returning-a-view-versus-a-copy\n",
      "  df[\"category\"]=df[\"Category_0\"].astype(str)+df[\"Category_1\"].astype(str)+df[\"Category_2\"].astype(str)+df[\"Category_3\"].astype(str)+df[\"Category_4\"].astype(str)+df[\"Category_5\"].astype(str)\n"
     ]
    },
    {
     "data": {
      "text/plain": [
       "(array([ 310.,  513.,  246.,  375.,  289., 2286.,  387.,  835.,  499.,\n",
       "         349.]),\n",
       " array([ 0. ,  3.2,  6.4,  9.6, 12.8, 16. , 19.2, 22.4, 25.6, 28.8, 32. ]),\n",
       " <BarContainer object of 10 artists>)"
      ]
     },
     "execution_count": 953,
     "metadata": {},
     "output_type": "execute_result"
    },
    {
     "data": {
      "image/png": "[encoded data removed]",
      "text/plain": [
       "<Figure size 640x480 with 1 Axes>"
      ]
     },
     "metadata": {},
     "output_type": "display_data"
    }
   ],
   "source": [
    "df[\"category\"]=df[\"Category_0\"].astype(str)+df[\"Category_1\"].astype(str)+df[\"Category_2\"].astype(str)+df[\"Category_3\"].astype(str)+df[\"Category_4\"].astype(str)+df[\"Category_5\"].astype(str)\n",
    "plt.hist(df[\"category\"])"
   ]
  },
  {
   "cell_type": "code",
   "execution_count": 954,
   "metadata": {},
   "outputs": [
    {
     "data": {
      "text/plain": [
       "(array([5671.,  156.,    0.,    0.,    0.,    0.,    0.,    0.,    0.,\n",
       "         262.]),\n",
       " array([  1.,  11.,  21.,  31.,  41.,  51.,  61.,  71.,  81.,  91., 101.]),\n",
       " <BarContainer object of 10 artists>)"
      ]
     },
     "execution_count": 954,
     "metadata": {},
     "output_type": "execute_result"
    },
    {
     "data": {
      "image/png": "[encoded data removed]",
      "text/plain": [
       "<Figure size 640x480 with 1 Axes>"
      ]
     },
     "metadata": {},
     "output_type": "display_data"
    }
   ],
   "source": [
    "\n",
    "\n",
    "plt.hist(df[\"content_rating\"]) #cannot be treated as outlier"
   ]
  },
  {
   "cell_type": "markdown",
   "metadata": {},
   "source": [
    "**Answering questions**"
   ]
  },
  {
   "cell_type": "markdown",
   "metadata": {},
   "source": [
    "What is the most expensive app on the Play Store?\n"
   ]
  },
  {
   "cell_type": "code",
   "execution_count": 955,
   "metadata": {},
   "outputs": [
    {
     "data": {
      "text/plain": [
       "400.0"
      ]
     },
     "execution_count": 955,
     "metadata": {},
     "output_type": "execute_result"
    }
   ],
   "source": [
    "df[\"Price\"].max()"
   ]
  },
  {
   "cell_type": "markdown",
   "metadata": {},
   "source": [
    "Which genre has the highest number of apps?"
   ]
  },
  {
   "cell_type": "code",
   "execution_count": 956,
   "metadata": {},
   "outputs": [
    {
     "data": {
      "text/plain": [
       "'Tools'"
      ]
     },
     "execution_count": 956,
     "metadata": {},
     "output_type": "execute_result"
    }
   ],
   "source": [
    "df[\"Genres\"].mode()[0]"
   ]
  },
  {
   "cell_type": "markdown",
   "metadata": {},
   "source": [
    "What is the average size of free vs. paid apps?"
   ]
  },
  {
   "cell_type": "code",
   "execution_count": 957,
   "metadata": {},
   "outputs": [
    {
     "name": "stdout",
     "output_type": "stream",
     "text": [
      "average size for free apps is 18.85187415269354\n",
      "average size for paid apps is 21.769327122153207\n"
     ]
    }
   ],
   "source": [
    "free=df[df[\"Price\"]==0]\n",
    "free_avg_price=np.mean(free[\"Size\"])\n",
    "paid=df[df[\"Price\"]!=0]\n",
    "\n",
    "paid_avg_price=np.mean(paid[\"Size\"])\n",
    "\n",
    "print(\"average size for free apps is \"+str(free_avg_price))\n",
    "print(\"average size for paid apps is \"+str(paid_avg_price))"
   ]
  },
  {
   "cell_type": "markdown",
   "metadata": {},
   "source": [
    "What are the top 5 most expensive apps with a perfect rating (5)?"
   ]
  },
  {
   "cell_type": "code",
   "execution_count": 958,
   "metadata": {},
   "outputs": [
    {
     "name": "stdout",
     "output_type": "stream",
     "text": [
      "5489    29.99\n",
      "7204     4.99\n",
      "5246     4.99\n",
      "5237     3.99\n",
      "8287     3.04\n",
      "Name: Price, dtype: float64\n",
      "the top 5 most expensive apps are :['AP Art History Flashcards', 'TI-84 CE Graphing Calculator Manual TI 84', \"Hey AJ! It's Bedtime!\", \"Hey AJ! It's Saturday!\", 'AC DC Power Monitor']         \n",
      "\n"
     ]
    },
    {
     "name": "stderr",
     "output_type": "stream",
     "text": [
      "C:\\Users\\kareem\\AppData\\Local\\Temp\\ipykernel_15568\\2909371250.py:1: SettingWithCopyWarning: \n",
      "A value is trying to be set on a copy of a slice from a DataFrame.\n",
      "Try using .loc[row_indexer,col_indexer] = value instead\n",
      "\n",
      "See the caveats in the documentation: https://pandas.pydata.org/pandas-docs/stable/user_guide/indexing.html#returning-a-view-versus-a-copy\n",
      "  df[\"App\"]=names\n"
     ]
    }
   ],
   "source": [
    "df[\"App\"]=names\n",
    "sorted=df.sort_values(by=\"Price\",ascending=False)\n",
    "sorted_expensive=sorted[sorted[\"Rating\"]==5].head(5)\n",
    "\n",
    "sorted_expensive_prices=sorted_expensive[\"Price\"]\n",
    "print(sorted_expensive_prices)\n",
    "namess=list(sorted_expensive[\"App\"])\n",
    "print(\"the top 5 most expensive apps are :\"+str(namess)+\"         \\n\")"
   ]
  },
  {
   "cell_type": "markdown",
   "metadata": {},
   "source": [
    "How many apps have received more than 50K reviews?"
   ]
  },
  {
   "cell_type": "code",
   "execution_count": 959,
   "metadata": {},
   "outputs": [
    {
     "data": {
      "text/plain": [
       "54"
      ]
     },
     "execution_count": 959,
     "metadata": {},
     "output_type": "execute_result"
    }
   ],
   "source": [
    "rev=len(df[df[\"Reviews\"]>=50000])\n",
    "rev"
   ]
  },
  {
   "cell_type": "markdown",
   "metadata": {},
   "source": [
    "What is the average price of apps, grouped by genre and number of installs?"
   ]
  },
  {
   "cell_type": "code",
   "execution_count": 960,
   "metadata": {},
   "outputs": [
    {
     "name": "stdout",
     "output_type": "stream",
     "text": [
      "              Price\n",
      "Installs           \n",
      "1         77.339231\n",
      "2          2.782857\n",
      "3          0.320822\n",
      "4          0.940294\n",
      "5          0.462948\n",
      "6          1.154763\n",
      "7          0.308731\n",
      "8          2.696373\n",
      "9          3.705098\n",
      "10         2.896173\n",
      "11         1.522141\n",
      "12         0.800851\n",
      "13         0.038998\n",
      "14         0.018185\n",
      "15         0.000000\n",
      "16         0.000000\n",
      "17         0.000000\n",
      "18         0.000000\n",
      "                                          Price\n",
      "Genres                                         \n",
      "Action                                 0.252761\n",
      "Action;Action & Adventure              1.121250\n",
      "Adventure                              1.018542\n",
      "Adventure;Action & Adventure           1.663333\n",
      "Adventure;Brain Games                  2.990000\n",
      "...                                         ...\n",
      "Trivia;Education                       0.000000\n",
      "Video Players & Editors                0.000000\n",
      "Video Players & Editors;Music & Video  0.000000\n",
      "Weather                                0.391667\n",
      "Word                                   0.000000\n",
      "\n",
      "[109 rows x 1 columns]\n"
     ]
    }
   ],
   "source": [
    "installs_grouped=df.groupby(\"Installs\")\n",
    "mean_by_installs = installs_grouped.agg({'Price': 'mean'})\n",
    "genre_grouped=df.groupby(\"Genres\")\n",
    "mean_by_genre=genre_grouped.agg({\"Price\": \"mean\"})\n",
    "print(mean_by_installs)\n",
    "print(mean_by_genre)"
   ]
  },
  {
   "cell_type": "markdown",
   "metadata": {},
   "source": [
    "How many apps have a rating higher than 4.7, and what is their average price?"
   ]
  },
  {
   "cell_type": "code",
   "execution_count": 961,
   "metadata": {},
   "outputs": [
    {
     "name": "stdout",
     "output_type": "stream",
     "text": [
      "490\n",
      "0.4051632653061225\n"
     ]
    }
   ],
   "source": [
    "hr=df[df[\"Rating\"]>4.7]\n",
    "print(len(hr))\n",
    "prices=np.mean(hr[\"Price\"])\n",
    "print(prices)\n",
    "#very low because most of them is free"
   ]
  },
  {
   "cell_type": "markdown",
   "metadata": {},
   "source": [
    "What is Google's estimated revenue from apps with 5,000,000+ installs?"
   ]
  },
  {
   "cell_type": "code",
   "execution_count": 962,
   "metadata": {},
   "outputs": [
    {
     "data": {
      "text/html": [
       "<div>\n",
       "<style scoped>\n",
       "    .dataframe tbody tr th:only-of-type {\n",
       "        vertical-align: middle;\n",
       "    }\n",
       "\n",
       "    .dataframe tbody tr th {\n",
       "        vertical-align: top;\n",
       "    }\n",
       "\n",
       "    .dataframe thead th {\n",
       "        text-align: right;\n",
       "    }\n",
       "</style>\n",
       "<table border=\"1\" class=\"dataframe\">\n",
       "  <thead>\n",
       "    <tr style=\"text-align: right;\">\n",
       "      <th></th>\n",
       "      <th>Category</th>\n",
       "      <th>Rating</th>\n",
       "      <th>Reviews</th>\n",
       "      <th>Size</th>\n",
       "      <th>Installs</th>\n",
       "      <th>Price</th>\n",
       "      <th>Content Rating</th>\n",
       "      <th>Genres</th>\n",
       "      <th>Android Ver</th>\n",
       "      <th>Genres_0</th>\n",
       "      <th>...</th>\n",
       "      <th>Category_2</th>\n",
       "      <th>Category_3</th>\n",
       "      <th>Category_4</th>\n",
       "      <th>Category_5</th>\n",
       "      <th>update year</th>\n",
       "      <th>content_rating</th>\n",
       "      <th>category</th>\n",
       "      <th>App</th>\n",
       "      <th>Install_Count</th>\n",
       "      <th>Revenue</th>\n",
       "    </tr>\n",
       "  </thead>\n",
       "  <tbody>\n",
       "  </tbody>\n",
       "</table>\n",
       "<p>0 rows × 31 columns</p>\n",
       "</div>"
      ],
      "text/plain": [
       "Empty DataFrame\n",
       "Columns: [Category, Rating, Reviews, Size, Installs, Price, Content Rating, Genres, Android Ver, Genres_0, Genres_1, Genres_2, Genres_3, Genres_4, Genres_5, Genres_6, Content Rating_0, Content Rating_1, Content Rating_2, Category_0, Category_1, Category_2, Category_3, Category_4, Category_5, update year, content_rating, category, App, Install_Count, Revenue]\n",
       "Index: []\n",
       "\n",
       "[0 rows x 31 columns]"
      ]
     },
     "execution_count": 962,
     "metadata": {},
     "output_type": "execute_result"
    }
   ],
   "source": [
    "apps=df[df[\"Installs\"]>=15]\n",
    "apps = apps.reset_index(drop=True)\n",
    "inv_transform = {\n",
    "    1: 0, 2: 1, 3: 5, 4: 10, \n",
    "    5: 50, 6: 100, 7: 500, 8: 1000, \n",
    "    9: 5000, 10: 10000, 11: 50000, \n",
    "    12: 100000, 13: 500000, 14: 1000000, \n",
    "    15: 5000000, 16: 10000000, 17: 50000000, \n",
    "    18: 100000000, 19: 500000000,20: 1000000000\n",
    "}\n",
    "apps[\"Install_Count\"] = apps[\"Installs\"].map(inv_transform)\n",
    "apps[\"Revenue\"] = apps[\"Price\"] * apps[\"Install_Count\"]\n",
    "total_revenue = apps[\"Revenue\"].sum()\n",
    "\n",
    "apps[apps[\"Price\"]>0]\n"
   ]
  },
  {
   "cell_type": "markdown",
   "metadata": {},
   "source": [
    "**all the apps above 5000000 installs are free (so the revenue from these apps is ZERO)**"
   ]
  },
  {
   "cell_type": "markdown",
   "metadata": {},
   "source": [
    "What are the maximum and minimum sizes of free vs. paid apps?\n"
   ]
  },
  {
   "cell_type": "code",
   "execution_count": 963,
   "metadata": {},
   "outputs": [
    {
     "name": "stdout",
     "output_type": "stream",
     "text": [
      "most small free: 0.0085\n",
      "most large free : 100.0\n",
      "most small paid: 0.018000000000000002\n",
      "most large paid : 100.0\n"
     ]
    }
   ],
   "source": [
    "free=df[df[\"Price\"]==0]\n",
    "min_free=np.min(free[\"Size\"])\n",
    "max_free=np.max(free[\"Size\"])\n",
    "\n",
    "\n",
    "paid=df[df[\"Price\"]>0]\n",
    "min_paid=np.min(paid[\"Size\"])\n",
    "max_paid=np.max(paid[\"Size\"])\n",
    "\n",
    "print(\"most small free: \"+ str(min_free))\n",
    "print(\"most large free : \"+ str(max_free))\n",
    "print(\"most small paid: \"+ str(min_paid))\n",
    "print(\"most large paid : \"+ str(max_paid))"
   ]
  },
  {
   "cell_type": "markdown",
   "metadata": {},
   "source": [
    "Is there a correlation between an app’s rating, number of reviews, size, and its price?"
   ]
  },
  {
   "cell_type": "code",
   "execution_count": 964,
   "metadata": {},
   "outputs": [],
   "source": [
    "#########################################################################"
   ]
  },
  {
   "cell_type": "markdown",
   "metadata": {},
   "source": [
    "How many apps exist for each type (free/paid) across different content ratings?"
   ]
  },
  {
   "cell_type": "code",
   "execution_count": 965,
   "metadata": {},
   "outputs": [
    {
     "name": "stdout",
     "output_type": "stream",
     "text": [
      "FREE : \n",
      "\n",
      "Content Rating\n",
      "Adults only 18+       2\n",
      "Everyone           4682\n",
      "Everyone 10+        136\n",
      "Mature 17+          248\n",
      "Teen                538\n",
      "dtype: int64\n",
      "\n",
      "PAID : \n",
      "\n",
      "Content Rating\n",
      "Everyone        414\n",
      "Everyone 10+     20\n",
      "Mature 17+       12\n",
      "Teen             37\n",
      "dtype: int64\n"
     ]
    }
   ],
   "source": [
    "free=df[df[\"Price\"]==0]\n",
    "print(\"FREE : \\n\")\n",
    "print(free.groupby(\"Content Rating\").size())\n",
    "paid=df[df[\"Price\"]>0]\n",
    "print(\"\\nPAID : \\n\")\n",
    "print(paid.groupby(\"Content Rating\").size())\n"
   ]
  },
  {
   "cell_type": "markdown",
   "metadata": {},
   "source": [
    "How many apps are compatible with Android version 4.x?"
   ]
  },
  {
   "cell_type": "code",
   "execution_count": 966,
   "metadata": {},
   "outputs": [
    {
     "data": {
      "text/plain": [
       "4676"
      ]
     },
     "execution_count": 966,
     "metadata": {},
     "output_type": "execute_result"
    }
   ],
   "source": [
    "#from transformation matrix 4.x is represented by values from 14 to 22 \n",
    "and_ver=df[df[\"Android Ver\"]>=14 ]\n",
    "and_ver=and_ver[and_ver[\"Android Ver\"]<=22]\n",
    "num=len(and_ver)\n",
    "num"
   ]
  }
 ],
 "metadata": {
  "kernelspec": {
   "display_name": "base",
   "language": "python",
   "name": "python3"
  },
  "language_info": {
   "codemirror_mode": {
    "name": "ipython",
    "version": 3
   },
   "file_extension": ".py",
   "mimetype": "text/x-python",
   "name": "python",
   "nbconvert_exporter": "python",
   "pygments_lexer": "ipython3",
   "version": "3.12.4"
  }
 },
 "nbformat": 4,
 "nbformat_minor": 2
}
